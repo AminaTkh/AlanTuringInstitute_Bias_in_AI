{
  "cells": [
    {
      "cell_type": "markdown",
      "metadata": {
        "id": "view-in-github",
        "colab_type": "text"
      },
      "source": [
        "<a href=\"https://colab.research.google.com/github/AminaTkh/AlanTuringInstitute_Bias_in_AI/blob/main/Forms-and-Quantification-of-Bias-in-AI/Practice_1_Explore_data.ipynb\" target=\"_parent\"><img src=\"https://colab.research.google.com/assets/colab-badge.svg\" alt=\"Open In Colab\"/></a>"
      ]
    },
    {
      "cell_type": "markdown",
      "metadata": {
        "id": "RMuRYKtj4SHR"
      },
      "source": [
        "# **Milestone 3: Sources, Forms, and Quantification of Bias and Discrimination in Supervised Learning**\n",
        "# **PRACTICE NOTEBOOK 1 - Explore given data**\n"
      ]
    },
    {
      "cell_type": "markdown",
      "metadata": {
        "id": "0v83HDaM4g99"
      },
      "source": [
        "In this part of the course, we will look for bias using a practical example. A  company is looking to hire a new employee. They use a machine learning algorithm to select the top candidates. The candidates are assigned either 0 if they're not selected or 1 if they are.\n",
        "\n",
        "There are 4 practice notebooks in total (current one in red):\n",
        "1. <font color='red'> **Explore given data to: detect potential bias early & check for proxies**</font>\n",
        "2. Evaluate model bias \"manually\"\n",
        "3. Evaluate model bias using **holisticai** library\n",
        "4. Example code to get confidence intervals for a metric (nothing to do)\n",
        "\n",
        "Instructions to complete in each parts are in bold. Intermediate results are given so one can continue the exercise.\n",
        "\n",
        "This is notebook number 1.\n",
        "\n",
        "In this notebook, we:\n",
        "- Import modules, define some useful functions, and load the data\n",
        "- Check for nan values\n",
        "- Explore the demographics of the candidates and the label distribution per group\n",
        "- Look for proxies in the data\n",
        "- See if we can build a model that \"guess\" the gender/ethnicity"
      ]
    },
    {
      "cell_type": "markdown",
      "metadata": {
        "id": "-nYt5_h77QGN"
      },
      "source": [
        "## **0 - Import modules, load data and useful functions**"
      ]
    },
    {
      "cell_type": "code",
      "execution_count": 1,
      "metadata": {
        "id": "KgfZWXdy1REj"
      },
      "outputs": [],
      "source": [
        "#imports\n",
        "import pickle\n",
        "import numpy as np\n",
        "import pandas as pd\n",
        "import matplotlib.pyplot as plt\n",
        "import seaborn as sns\n",
        "from collections import Counter\n",
        "from sklearn.preprocessing import LabelEncoder\n",
        "from sklearn.model_selection import train_test_split\n",
        "from sklearn.linear_model import RidgeClassifier\n",
        "from sklearn.metrics import accuracy_score, recall_score, precision_score, precision_recall_fscore_support\n",
        "from sklearn.metrics import confusion_matrix\n",
        "from imblearn.under_sampling import RandomUnderSampler\n",
        "import imblearn"
      ]
    },
    {
      "cell_type": "code",
      "execution_count": 2,
      "metadata": {
        "colab": {
          "base_uri": "https://localhost:8080/",
          "height": 523
        },
        "id": "Oa_4prSAQ7wi",
        "outputId": "9273067f-f87d-4144-89a4-ed012e420fa8"
      },
      "outputs": [
        {
          "output_type": "stream",
          "name": "stderr",
          "text": [
            "/usr/local/lib/python3.10/dist-packages/sklearn/datasets/_openml.py:968: FutureWarning: The default value of `parser` will change from `'liac-arff'` to `'auto'` in 1.4. You can set `parser='auto'` to silence this warning. Therefore, an `ImportError` will be raised from 1.4 if the dataset is dense and pandas is not installed. Note that the pandas parser may return different data types. See the Notes Section in fetch_openml's API doc for details.\n",
            "  warn(\n"
          ]
        },
        {
          "output_type": "execute_result",
          "data": {
            "text/plain": [
              "      Label  Gender Ethnicity         0         1         2         3  \\\n",
              "0         1  Female     Black -0.178832  0.147077  0.775331 -0.427889   \n",
              "1         1    Male  Hispanic  0.092276  0.122023  0.482935 -0.232131   \n",
              "2         0  Female  Hispanic -1.703377 -0.962149 -0.785495 -0.633902   \n",
              "3         0    None      None -1.229715 -1.342997 -0.093382  0.136900   \n",
              "4         1    Male  Hispanic -0.363013  1.264307  1.667603  0.903941   \n",
              "...     ...     ...       ...       ...       ...       ...       ...   \n",
              "9995      1  Female  Hispanic -0.057075  1.791513 -1.065756 -0.783341   \n",
              "9996      1    Male     Black  0.582066  0.086788  0.167259 -1.672798   \n",
              "9997      0    Male     White -1.355098 -0.321228 -0.204290  0.498632   \n",
              "9998      1    Male     White -0.526557  2.174463 -0.979082 -0.681536   \n",
              "9999      0    None      None  0.878986  0.750031  1.014081 -0.324345   \n",
              "\n",
              "             4         5         6  ...        40        41        42  \\\n",
              "0     0.640818 -0.610427 -1.023371  ...  0.513206 -0.042387 -0.355889   \n",
              "1    -1.939064 -1.140216 -0.833250  ... -1.203151  0.750136 -1.417751   \n",
              "2    -0.334718 -1.555958  0.825006  ...  0.249654  0.368800  0.079523   \n",
              "3     1.195076 -0.582687  0.052355  ...  0.667730  0.595494  0.454502   \n",
              "4    -0.062840  0.680886  0.389930  ... -0.494161  0.784050 -0.311236   \n",
              "...        ...       ...       ...  ...       ...       ...       ...   \n",
              "9995 -0.559215  1.042646 -1.154058  ... -0.335082  0.709753  0.021583   \n",
              "9996  1.537135 -1.113315  0.222907  ... -0.562594  0.150314 -0.072920   \n",
              "9997  1.634130  0.847070 -0.552140  ... -1.204719  0.688433 -1.781911   \n",
              "9998 -0.145515  1.703135  0.947010  ... -0.487367  2.043764 -1.570147   \n",
              "9999  0.778664 -0.469189  0.750975  ...  1.118061 -0.708493  0.323589   \n",
              "\n",
              "            43        44        45        46        47        48        49  \n",
              "0    -0.465837 -2.832634  0.917297 -0.241052 -2.122105  0.253170  0.164617  \n",
              "1     1.254152  0.631731  1.665469 -0.388293 -0.804782 -0.227182  0.412375  \n",
              "2    -0.932425 -0.693293 -0.114197 -1.252067  0.834270 -0.463270  0.559294  \n",
              "3    -0.366884 -0.399758  1.113102  0.126707  0.474569 -0.158103  1.197710  \n",
              "4     2.447118  1.127650  0.086733 -0.381553  0.209684  0.197809 -0.879914  \n",
              "...        ...       ...       ...       ...       ...       ...       ...  \n",
              "9995  1.718576  1.171804  0.430075  3.340726  1.349216  1.481516  0.070563  \n",
              "9996 -1.841719 -0.807065 -0.793955 -1.098300 -1.474154 -0.828826 -0.891166  \n",
              "9997  0.275032  0.690859  0.666878  0.644440  0.127891  1.277781 -0.744428  \n",
              "9998  0.861712 -0.939181  0.090775 -1.153183 -1.362903 -1.424866 -0.374579  \n",
              "9999 -1.607874 -0.218238  0.104560 -1.013426  0.563411 -0.399798 -0.021546  \n",
              "\n",
              "[10000 rows x 53 columns]"
            ],
            "text/html": [
              "\n",
              "  <div id=\"df-82d374ba-e533-4343-acfd-1e3c0151b6f4\">\n",
              "    <div class=\"colab-df-container\">\n",
              "      <div>\n",
              "<style scoped>\n",
              "    .dataframe tbody tr th:only-of-type {\n",
              "        vertical-align: middle;\n",
              "    }\n",
              "\n",
              "    .dataframe tbody tr th {\n",
              "        vertical-align: top;\n",
              "    }\n",
              "\n",
              "    .dataframe thead th {\n",
              "        text-align: right;\n",
              "    }\n",
              "</style>\n",
              "<table border=\"1\" class=\"dataframe\">\n",
              "  <thead>\n",
              "    <tr style=\"text-align: right;\">\n",
              "      <th></th>\n",
              "      <th>Label</th>\n",
              "      <th>Gender</th>\n",
              "      <th>Ethnicity</th>\n",
              "      <th>0</th>\n",
              "      <th>1</th>\n",
              "      <th>2</th>\n",
              "      <th>3</th>\n",
              "      <th>4</th>\n",
              "      <th>5</th>\n",
              "      <th>6</th>\n",
              "      <th>...</th>\n",
              "      <th>40</th>\n",
              "      <th>41</th>\n",
              "      <th>42</th>\n",
              "      <th>43</th>\n",
              "      <th>44</th>\n",
              "      <th>45</th>\n",
              "      <th>46</th>\n",
              "      <th>47</th>\n",
              "      <th>48</th>\n",
              "      <th>49</th>\n",
              "    </tr>\n",
              "  </thead>\n",
              "  <tbody>\n",
              "    <tr>\n",
              "      <th>0</th>\n",
              "      <td>1</td>\n",
              "      <td>Female</td>\n",
              "      <td>Black</td>\n",
              "      <td>-0.178832</td>\n",
              "      <td>0.147077</td>\n",
              "      <td>0.775331</td>\n",
              "      <td>-0.427889</td>\n",
              "      <td>0.640818</td>\n",
              "      <td>-0.610427</td>\n",
              "      <td>-1.023371</td>\n",
              "      <td>...</td>\n",
              "      <td>0.513206</td>\n",
              "      <td>-0.042387</td>\n",
              "      <td>-0.355889</td>\n",
              "      <td>-0.465837</td>\n",
              "      <td>-2.832634</td>\n",
              "      <td>0.917297</td>\n",
              "      <td>-0.241052</td>\n",
              "      <td>-2.122105</td>\n",
              "      <td>0.253170</td>\n",
              "      <td>0.164617</td>\n",
              "    </tr>\n",
              "    <tr>\n",
              "      <th>1</th>\n",
              "      <td>1</td>\n",
              "      <td>Male</td>\n",
              "      <td>Hispanic</td>\n",
              "      <td>0.092276</td>\n",
              "      <td>0.122023</td>\n",
              "      <td>0.482935</td>\n",
              "      <td>-0.232131</td>\n",
              "      <td>-1.939064</td>\n",
              "      <td>-1.140216</td>\n",
              "      <td>-0.833250</td>\n",
              "      <td>...</td>\n",
              "      <td>-1.203151</td>\n",
              "      <td>0.750136</td>\n",
              "      <td>-1.417751</td>\n",
              "      <td>1.254152</td>\n",
              "      <td>0.631731</td>\n",
              "      <td>1.665469</td>\n",
              "      <td>-0.388293</td>\n",
              "      <td>-0.804782</td>\n",
              "      <td>-0.227182</td>\n",
              "      <td>0.412375</td>\n",
              "    </tr>\n",
              "    <tr>\n",
              "      <th>2</th>\n",
              "      <td>0</td>\n",
              "      <td>Female</td>\n",
              "      <td>Hispanic</td>\n",
              "      <td>-1.703377</td>\n",
              "      <td>-0.962149</td>\n",
              "      <td>-0.785495</td>\n",
              "      <td>-0.633902</td>\n",
              "      <td>-0.334718</td>\n",
              "      <td>-1.555958</td>\n",
              "      <td>0.825006</td>\n",
              "      <td>...</td>\n",
              "      <td>0.249654</td>\n",
              "      <td>0.368800</td>\n",
              "      <td>0.079523</td>\n",
              "      <td>-0.932425</td>\n",
              "      <td>-0.693293</td>\n",
              "      <td>-0.114197</td>\n",
              "      <td>-1.252067</td>\n",
              "      <td>0.834270</td>\n",
              "      <td>-0.463270</td>\n",
              "      <td>0.559294</td>\n",
              "    </tr>\n",
              "    <tr>\n",
              "      <th>3</th>\n",
              "      <td>0</td>\n",
              "      <td>None</td>\n",
              "      <td>None</td>\n",
              "      <td>-1.229715</td>\n",
              "      <td>-1.342997</td>\n",
              "      <td>-0.093382</td>\n",
              "      <td>0.136900</td>\n",
              "      <td>1.195076</td>\n",
              "      <td>-0.582687</td>\n",
              "      <td>0.052355</td>\n",
              "      <td>...</td>\n",
              "      <td>0.667730</td>\n",
              "      <td>0.595494</td>\n",
              "      <td>0.454502</td>\n",
              "      <td>-0.366884</td>\n",
              "      <td>-0.399758</td>\n",
              "      <td>1.113102</td>\n",
              "      <td>0.126707</td>\n",
              "      <td>0.474569</td>\n",
              "      <td>-0.158103</td>\n",
              "      <td>1.197710</td>\n",
              "    </tr>\n",
              "    <tr>\n",
              "      <th>4</th>\n",
              "      <td>1</td>\n",
              "      <td>Male</td>\n",
              "      <td>Hispanic</td>\n",
              "      <td>-0.363013</td>\n",
              "      <td>1.264307</td>\n",
              "      <td>1.667603</td>\n",
              "      <td>0.903941</td>\n",
              "      <td>-0.062840</td>\n",
              "      <td>0.680886</td>\n",
              "      <td>0.389930</td>\n",
              "      <td>...</td>\n",
              "      <td>-0.494161</td>\n",
              "      <td>0.784050</td>\n",
              "      <td>-0.311236</td>\n",
              "      <td>2.447118</td>\n",
              "      <td>1.127650</td>\n",
              "      <td>0.086733</td>\n",
              "      <td>-0.381553</td>\n",
              "      <td>0.209684</td>\n",
              "      <td>0.197809</td>\n",
              "      <td>-0.879914</td>\n",
              "    </tr>\n",
              "    <tr>\n",
              "      <th>...</th>\n",
              "      <td>...</td>\n",
              "      <td>...</td>\n",
              "      <td>...</td>\n",
              "      <td>...</td>\n",
              "      <td>...</td>\n",
              "      <td>...</td>\n",
              "      <td>...</td>\n",
              "      <td>...</td>\n",
              "      <td>...</td>\n",
              "      <td>...</td>\n",
              "      <td>...</td>\n",
              "      <td>...</td>\n",
              "      <td>...</td>\n",
              "      <td>...</td>\n",
              "      <td>...</td>\n",
              "      <td>...</td>\n",
              "      <td>...</td>\n",
              "      <td>...</td>\n",
              "      <td>...</td>\n",
              "      <td>...</td>\n",
              "      <td>...</td>\n",
              "    </tr>\n",
              "    <tr>\n",
              "      <th>9995</th>\n",
              "      <td>1</td>\n",
              "      <td>Female</td>\n",
              "      <td>Hispanic</td>\n",
              "      <td>-0.057075</td>\n",
              "      <td>1.791513</td>\n",
              "      <td>-1.065756</td>\n",
              "      <td>-0.783341</td>\n",
              "      <td>-0.559215</td>\n",
              "      <td>1.042646</td>\n",
              "      <td>-1.154058</td>\n",
              "      <td>...</td>\n",
              "      <td>-0.335082</td>\n",
              "      <td>0.709753</td>\n",
              "      <td>0.021583</td>\n",
              "      <td>1.718576</td>\n",
              "      <td>1.171804</td>\n",
              "      <td>0.430075</td>\n",
              "      <td>3.340726</td>\n",
              "      <td>1.349216</td>\n",
              "      <td>1.481516</td>\n",
              "      <td>0.070563</td>\n",
              "    </tr>\n",
              "    <tr>\n",
              "      <th>9996</th>\n",
              "      <td>1</td>\n",
              "      <td>Male</td>\n",
              "      <td>Black</td>\n",
              "      <td>0.582066</td>\n",
              "      <td>0.086788</td>\n",
              "      <td>0.167259</td>\n",
              "      <td>-1.672798</td>\n",
              "      <td>1.537135</td>\n",
              "      <td>-1.113315</td>\n",
              "      <td>0.222907</td>\n",
              "      <td>...</td>\n",
              "      <td>-0.562594</td>\n",
              "      <td>0.150314</td>\n",
              "      <td>-0.072920</td>\n",
              "      <td>-1.841719</td>\n",
              "      <td>-0.807065</td>\n",
              "      <td>-0.793955</td>\n",
              "      <td>-1.098300</td>\n",
              "      <td>-1.474154</td>\n",
              "      <td>-0.828826</td>\n",
              "      <td>-0.891166</td>\n",
              "    </tr>\n",
              "    <tr>\n",
              "      <th>9997</th>\n",
              "      <td>0</td>\n",
              "      <td>Male</td>\n",
              "      <td>White</td>\n",
              "      <td>-1.355098</td>\n",
              "      <td>-0.321228</td>\n",
              "      <td>-0.204290</td>\n",
              "      <td>0.498632</td>\n",
              "      <td>1.634130</td>\n",
              "      <td>0.847070</td>\n",
              "      <td>-0.552140</td>\n",
              "      <td>...</td>\n",
              "      <td>-1.204719</td>\n",
              "      <td>0.688433</td>\n",
              "      <td>-1.781911</td>\n",
              "      <td>0.275032</td>\n",
              "      <td>0.690859</td>\n",
              "      <td>0.666878</td>\n",
              "      <td>0.644440</td>\n",
              "      <td>0.127891</td>\n",
              "      <td>1.277781</td>\n",
              "      <td>-0.744428</td>\n",
              "    </tr>\n",
              "    <tr>\n",
              "      <th>9998</th>\n",
              "      <td>1</td>\n",
              "      <td>Male</td>\n",
              "      <td>White</td>\n",
              "      <td>-0.526557</td>\n",
              "      <td>2.174463</td>\n",
              "      <td>-0.979082</td>\n",
              "      <td>-0.681536</td>\n",
              "      <td>-0.145515</td>\n",
              "      <td>1.703135</td>\n",
              "      <td>0.947010</td>\n",
              "      <td>...</td>\n",
              "      <td>-0.487367</td>\n",
              "      <td>2.043764</td>\n",
              "      <td>-1.570147</td>\n",
              "      <td>0.861712</td>\n",
              "      <td>-0.939181</td>\n",
              "      <td>0.090775</td>\n",
              "      <td>-1.153183</td>\n",
              "      <td>-1.362903</td>\n",
              "      <td>-1.424866</td>\n",
              "      <td>-0.374579</td>\n",
              "    </tr>\n",
              "    <tr>\n",
              "      <th>9999</th>\n",
              "      <td>0</td>\n",
              "      <td>None</td>\n",
              "      <td>None</td>\n",
              "      <td>0.878986</td>\n",
              "      <td>0.750031</td>\n",
              "      <td>1.014081</td>\n",
              "      <td>-0.324345</td>\n",
              "      <td>0.778664</td>\n",
              "      <td>-0.469189</td>\n",
              "      <td>0.750975</td>\n",
              "      <td>...</td>\n",
              "      <td>1.118061</td>\n",
              "      <td>-0.708493</td>\n",
              "      <td>0.323589</td>\n",
              "      <td>-1.607874</td>\n",
              "      <td>-0.218238</td>\n",
              "      <td>0.104560</td>\n",
              "      <td>-1.013426</td>\n",
              "      <td>0.563411</td>\n",
              "      <td>-0.399798</td>\n",
              "      <td>-0.021546</td>\n",
              "    </tr>\n",
              "  </tbody>\n",
              "</table>\n",
              "<p>10000 rows × 53 columns</p>\n",
              "</div>\n",
              "      <button class=\"colab-df-convert\" onclick=\"convertToInteractive('df-82d374ba-e533-4343-acfd-1e3c0151b6f4')\"\n",
              "              title=\"Convert this dataframe to an interactive table.\"\n",
              "              style=\"display:none;\">\n",
              "        \n",
              "  <svg xmlns=\"http://www.w3.org/2000/svg\" height=\"24px\"viewBox=\"0 0 24 24\"\n",
              "       width=\"24px\">\n",
              "    <path d=\"M0 0h24v24H0V0z\" fill=\"none\"/>\n",
              "    <path d=\"M18.56 5.44l.94 2.06.94-2.06 2.06-.94-2.06-.94-.94-2.06-.94 2.06-2.06.94zm-11 1L8.5 8.5l.94-2.06 2.06-.94-2.06-.94L8.5 2.5l-.94 2.06-2.06.94zm10 10l.94 2.06.94-2.06 2.06-.94-2.06-.94-.94-2.06-.94 2.06-2.06.94z\"/><path d=\"M17.41 7.96l-1.37-1.37c-.4-.4-.92-.59-1.43-.59-.52 0-1.04.2-1.43.59L10.3 9.45l-7.72 7.72c-.78.78-.78 2.05 0 2.83L4 21.41c.39.39.9.59 1.41.59.51 0 1.02-.2 1.41-.59l7.78-7.78 2.81-2.81c.8-.78.8-2.07 0-2.86zM5.41 20L4 18.59l7.72-7.72 1.47 1.35L5.41 20z\"/>\n",
              "  </svg>\n",
              "      </button>\n",
              "      \n",
              "  <style>\n",
              "    .colab-df-container {\n",
              "      display:flex;\n",
              "      flex-wrap:wrap;\n",
              "      gap: 12px;\n",
              "    }\n",
              "\n",
              "    .colab-df-convert {\n",
              "      background-color: #E8F0FE;\n",
              "      border: none;\n",
              "      border-radius: 50%;\n",
              "      cursor: pointer;\n",
              "      display: none;\n",
              "      fill: #1967D2;\n",
              "      height: 32px;\n",
              "      padding: 0 0 0 0;\n",
              "      width: 32px;\n",
              "    }\n",
              "\n",
              "    .colab-df-convert:hover {\n",
              "      background-color: #E2EBFA;\n",
              "      box-shadow: 0px 1px 2px rgba(60, 64, 67, 0.3), 0px 1px 3px 1px rgba(60, 64, 67, 0.15);\n",
              "      fill: #174EA6;\n",
              "    }\n",
              "\n",
              "    [theme=dark] .colab-df-convert {\n",
              "      background-color: #3B4455;\n",
              "      fill: #D2E3FC;\n",
              "    }\n",
              "\n",
              "    [theme=dark] .colab-df-convert:hover {\n",
              "      background-color: #434B5C;\n",
              "      box-shadow: 0px 1px 3px 1px rgba(0, 0, 0, 0.15);\n",
              "      filter: drop-shadow(0px 1px 2px rgba(0, 0, 0, 0.3));\n",
              "      fill: #FFFFFF;\n",
              "    }\n",
              "  </style>\n",
              "\n",
              "      <script>\n",
              "        const buttonEl =\n",
              "          document.querySelector('#df-82d374ba-e533-4343-acfd-1e3c0151b6f4 button.colab-df-convert');\n",
              "        buttonEl.style.display =\n",
              "          google.colab.kernel.accessAllowed ? 'block' : 'none';\n",
              "\n",
              "        async function convertToInteractive(key) {\n",
              "          const element = document.querySelector('#df-82d374ba-e533-4343-acfd-1e3c0151b6f4');\n",
              "          const dataTable =\n",
              "            await google.colab.kernel.invokeFunction('convertToInteractive',\n",
              "                                                     [key], {});\n",
              "          if (!dataTable) return;\n",
              "\n",
              "          const docLinkHtml = 'Like what you see? Visit the ' +\n",
              "            '<a target=\"_blank\" href=https://colab.research.google.com/notebooks/data_table.ipynb>data table notebook</a>'\n",
              "            + ' to learn more about interactive tables.';\n",
              "          element.innerHTML = '';\n",
              "          dataTable['output_type'] = 'display_data';\n",
              "          await google.colab.output.renderOutput(dataTable, element);\n",
              "          const docLink = document.createElement('div');\n",
              "          docLink.innerHTML = docLinkHtml;\n",
              "          element.appendChild(docLink);\n",
              "        }\n",
              "      </script>\n",
              "    </div>\n",
              "  </div>\n",
              "  "
            ]
          },
          "metadata": {},
          "execution_count": 2
        }
      ],
      "source": [
        "# Load data\n",
        "\n",
        "from sklearn.datasets import fetch_openml\n",
        "bunch = fetch_openml(data_id=44270)\n",
        "raw_data = bunch['frame']\n",
        "raw_data\n"
      ]
    },
    {
      "cell_type": "code",
      "execution_count": 3,
      "metadata": {
        "id": "PLwniYoCY6_y"
      },
      "outputs": [],
      "source": [
        "def plot_cm(y_true,y_pred,labels = [1,0],display_labels = [1,0], ax = None):\n",
        "  cm = confusion_matrix(y_true,y_pred,labels = labels)\n",
        "  if ax is None:\n",
        "    fig, ax = plt.subplots()\n",
        "  else:\n",
        "    fig = ax.figure\n",
        "  sns.heatmap(cm, annot=True, ax = ax, cmap='viridis',fmt='g')\n",
        "\n",
        "  ax.set(xticklabels=display_labels,\n",
        "          yticklabels=display_labels,\n",
        "          ylabel=\"True label\",\n",
        "          xlabel=\"Predicted label\")\n",
        "  return cm\n",
        "def split_data_from_df(data):\n",
        "  y = data['Label'].values\n",
        "  # g = data['Gender'].values\n",
        "  # e = data['Ethnicity'].values\n",
        "  X = data[np.arange(50).astype(str)].values\n",
        "  filter_col = ['Ethnicity','Gender'] + [col for col in data if str(col).startswith('Ethnicity_')] + [col for col in data if str(col).startswith('Gender_')]\n",
        "  dem = data[filter_col].copy()\n",
        "  return X,y,dem\n",
        "def encode(df):\n",
        "  g_enc = LabelEncoder()\n",
        "  e_enc = LabelEncoder()\n",
        "  df['Gender'] = g_enc.fit_transform(df['Gender'])\n",
        "  df['Ethnicity'] = e_enc.fit_transform(df['Ethnicity'])\n",
        "  return df, g_enc,e_enc\n",
        "def resample_equal(df,cat):\n",
        "  df['uid'] = df[cat] + df['Label'].astype(str)\n",
        "  enc = LabelEncoder()\n",
        "  df['uid'] = enc.fit_transform(df['uid'])\n",
        "  # Resample\n",
        "  uid = df['uid'].values\n",
        "  res = imblearn.over_sampling.RandomOverSampler(random_state=6)\n",
        "  df_res,euid = res.fit_resample(df,uid)\n",
        "  df_res = pd.DataFrame(df_res,columns = df.columns)\n",
        "  df_res = df_res.sample(frac=1).reset_index(drop=True)\n",
        "  df_res['Label'] = df_res['Label'].astype(float)\n",
        "  return df_res"
      ]
    },
    {
      "cell_type": "markdown",
      "metadata": {
        "id": "2b-UuCXc79U1"
      },
      "source": [
        "## **1- Data presentation**"
      ]
    },
    {
      "cell_type": "markdown",
      "metadata": {
        "id": "71RjuIRAsYwl"
      },
      "source": [
        "Each row in the data represent a candidate. There are 3 components to the data:\n",
        "- y : the \"ground-truth\" label in the \"Label\" column. This is whether the candidate should actually receive a positive or negative rating (repsectively 1 or 0).\n",
        "- X : the input features in the columns 0 to 19. There are 20 features for each candidates, extracted from resume and video interview.\n",
        "- dem : the demographic information in the columns \"Gender\" or \"Ethnicity\".\n",
        "\n",
        "We extract them from a given dataframe using the pre-defined function \"split_data_from_df\" to be used as demonstrated below."
      ]
    },
    {
      "cell_type": "code",
      "execution_count": 4,
      "metadata": {
        "colab": {
          "base_uri": "https://localhost:8080/",
          "height": 161
        },
        "id": "lpItDrXHuE6L",
        "outputId": "79c18b98-e59d-48a3-f820-6702f67db617"
      },
      "outputs": [
        {
          "output_type": "stream",
          "name": "stdout",
          "text": [
            "(10000, 50) (10000,)\n"
          ]
        },
        {
          "output_type": "display_data",
          "data": {
            "text/plain": [
              "  Ethnicity  Gender\n",
              "0     Black  Female\n",
              "1  Hispanic    Male\n",
              "2  Hispanic  Female"
            ],
            "text/html": [
              "\n",
              "  <div id=\"df-fc569423-6178-40af-97b7-db30989aa048\">\n",
              "    <div class=\"colab-df-container\">\n",
              "      <div>\n",
              "<style scoped>\n",
              "    .dataframe tbody tr th:only-of-type {\n",
              "        vertical-align: middle;\n",
              "    }\n",
              "\n",
              "    .dataframe tbody tr th {\n",
              "        vertical-align: top;\n",
              "    }\n",
              "\n",
              "    .dataframe thead th {\n",
              "        text-align: right;\n",
              "    }\n",
              "</style>\n",
              "<table border=\"1\" class=\"dataframe\">\n",
              "  <thead>\n",
              "    <tr style=\"text-align: right;\">\n",
              "      <th></th>\n",
              "      <th>Ethnicity</th>\n",
              "      <th>Gender</th>\n",
              "    </tr>\n",
              "  </thead>\n",
              "  <tbody>\n",
              "    <tr>\n",
              "      <th>0</th>\n",
              "      <td>Black</td>\n",
              "      <td>Female</td>\n",
              "    </tr>\n",
              "    <tr>\n",
              "      <th>1</th>\n",
              "      <td>Hispanic</td>\n",
              "      <td>Male</td>\n",
              "    </tr>\n",
              "    <tr>\n",
              "      <th>2</th>\n",
              "      <td>Hispanic</td>\n",
              "      <td>Female</td>\n",
              "    </tr>\n",
              "  </tbody>\n",
              "</table>\n",
              "</div>\n",
              "      <button class=\"colab-df-convert\" onclick=\"convertToInteractive('df-fc569423-6178-40af-97b7-db30989aa048')\"\n",
              "              title=\"Convert this dataframe to an interactive table.\"\n",
              "              style=\"display:none;\">\n",
              "        \n",
              "  <svg xmlns=\"http://www.w3.org/2000/svg\" height=\"24px\"viewBox=\"0 0 24 24\"\n",
              "       width=\"24px\">\n",
              "    <path d=\"M0 0h24v24H0V0z\" fill=\"none\"/>\n",
              "    <path d=\"M18.56 5.44l.94 2.06.94-2.06 2.06-.94-2.06-.94-.94-2.06-.94 2.06-2.06.94zm-11 1L8.5 8.5l.94-2.06 2.06-.94-2.06-.94L8.5 2.5l-.94 2.06-2.06.94zm10 10l.94 2.06.94-2.06 2.06-.94-2.06-.94-.94-2.06-.94 2.06-2.06.94z\"/><path d=\"M17.41 7.96l-1.37-1.37c-.4-.4-.92-.59-1.43-.59-.52 0-1.04.2-1.43.59L10.3 9.45l-7.72 7.72c-.78.78-.78 2.05 0 2.83L4 21.41c.39.39.9.59 1.41.59.51 0 1.02-.2 1.41-.59l7.78-7.78 2.81-2.81c.8-.78.8-2.07 0-2.86zM5.41 20L4 18.59l7.72-7.72 1.47 1.35L5.41 20z\"/>\n",
              "  </svg>\n",
              "      </button>\n",
              "      \n",
              "  <style>\n",
              "    .colab-df-container {\n",
              "      display:flex;\n",
              "      flex-wrap:wrap;\n",
              "      gap: 12px;\n",
              "    }\n",
              "\n",
              "    .colab-df-convert {\n",
              "      background-color: #E8F0FE;\n",
              "      border: none;\n",
              "      border-radius: 50%;\n",
              "      cursor: pointer;\n",
              "      display: none;\n",
              "      fill: #1967D2;\n",
              "      height: 32px;\n",
              "      padding: 0 0 0 0;\n",
              "      width: 32px;\n",
              "    }\n",
              "\n",
              "    .colab-df-convert:hover {\n",
              "      background-color: #E2EBFA;\n",
              "      box-shadow: 0px 1px 2px rgba(60, 64, 67, 0.3), 0px 1px 3px 1px rgba(60, 64, 67, 0.15);\n",
              "      fill: #174EA6;\n",
              "    }\n",
              "\n",
              "    [theme=dark] .colab-df-convert {\n",
              "      background-color: #3B4455;\n",
              "      fill: #D2E3FC;\n",
              "    }\n",
              "\n",
              "    [theme=dark] .colab-df-convert:hover {\n",
              "      background-color: #434B5C;\n",
              "      box-shadow: 0px 1px 3px 1px rgba(0, 0, 0, 0.15);\n",
              "      filter: drop-shadow(0px 1px 2px rgba(0, 0, 0, 0.3));\n",
              "      fill: #FFFFFF;\n",
              "    }\n",
              "  </style>\n",
              "\n",
              "      <script>\n",
              "        const buttonEl =\n",
              "          document.querySelector('#df-fc569423-6178-40af-97b7-db30989aa048 button.colab-df-convert');\n",
              "        buttonEl.style.display =\n",
              "          google.colab.kernel.accessAllowed ? 'block' : 'none';\n",
              "\n",
              "        async function convertToInteractive(key) {\n",
              "          const element = document.querySelector('#df-fc569423-6178-40af-97b7-db30989aa048');\n",
              "          const dataTable =\n",
              "            await google.colab.kernel.invokeFunction('convertToInteractive',\n",
              "                                                     [key], {});\n",
              "          if (!dataTable) return;\n",
              "\n",
              "          const docLinkHtml = 'Like what you see? Visit the ' +\n",
              "            '<a target=\"_blank\" href=https://colab.research.google.com/notebooks/data_table.ipynb>data table notebook</a>'\n",
              "            + ' to learn more about interactive tables.';\n",
              "          element.innerHTML = '';\n",
              "          dataTable['output_type'] = 'display_data';\n",
              "          await google.colab.output.renderOutput(dataTable, element);\n",
              "          const docLink = document.createElement('div');\n",
              "          docLink.innerHTML = docLinkHtml;\n",
              "          element.appendChild(docLink);\n",
              "        }\n",
              "      </script>\n",
              "    </div>\n",
              "  </div>\n",
              "  "
            ]
          },
          "metadata": {}
        }
      ],
      "source": [
        "data = raw_data.copy()\n",
        "X,y,dem = split_data_from_df(data)\n",
        "print(X.shape, y.shape)\n",
        "display(dem.head(3))"
      ]
    },
    {
      "cell_type": "markdown",
      "metadata": {
        "id": "37vXWJT7piGr"
      },
      "source": [
        "In this section we will:\n",
        "1. Look for nan values\n",
        "2. Explore the demographics of the dataset and distribution of labels\n",
        "3. Check for proxies"
      ]
    },
    {
      "cell_type": "markdown",
      "metadata": {
        "id": "67rZSU6hDQwj"
      },
      "source": [
        "## **2. Nan values**"
      ]
    },
    {
      "cell_type": "markdown",
      "metadata": {
        "id": "74DWLk9IDH92"
      },
      "source": [
        "**Questions** :\n",
        "- **Check for the number of nan values in each column of *data*.** <br>\n",
        "    *Expected results*: No nan values in the features or labels. Nan values  for columns Gender and Ethnicity.\n",
        "\n",
        "\n",
        "- **How are these nan values distributed ?**\n",
        "Are the people missing gender information the same as the ones missing ethnicity information ? You can use the missingno library to visualise this on the *dem* dataframe ([see demo here](https://www.geeksforgeeks.org/python-visualize-missing-values-nan-values-using-missingno-library/)). Check your assumptions numerically. <br>\n",
        "    *Expected results*: You should find that for a given candidate, either both the gender or ethnicity is missing, either all of the information is there. We will call the group of candidates with missing information \"the nan group\"."
      ]
    },
    {
      "cell_type": "code",
      "execution_count": null,
      "metadata": {
        "id": "wMUs5xj06yP0"
      },
      "outputs": [],
      "source": [
        "data = raw_data.copy() # work with the \"data\" dataframe (simple copy of the raw dataframe)"
      ]
    },
    {
      "cell_type": "code",
      "source": [
        "data.head(5)"
      ],
      "metadata": {
        "id": "iAxcyUN9UBWC",
        "outputId": "61453128-89fa-401e-84c2-442cdeb74235",
        "colab": {
          "base_uri": "https://localhost:8080/",
          "height": 300
        }
      },
      "execution_count": null,
      "outputs": [
        {
          "output_type": "execute_result",
          "data": {
            "text/plain": [
              "   Label  Gender Ethnicity         0         1         2         3         4  \\\n",
              "0      1  Female     Black -0.178832  0.147077  0.775331 -0.427889  0.640818   \n",
              "1      1    Male  Hispanic  0.092276  0.122023  0.482935 -0.232131 -1.939064   \n",
              "2      0  Female  Hispanic -1.703377 -0.962149 -0.785495 -0.633902 -0.334718   \n",
              "3      0    None      None -1.229715 -1.342997 -0.093382  0.136900  1.195076   \n",
              "4      1    Male  Hispanic -0.363013  1.264307  1.667603  0.903941 -0.062840   \n",
              "\n",
              "          5         6  ...        40        41        42        43        44  \\\n",
              "0 -0.610427 -1.023371  ...  0.513206 -0.042387 -0.355889 -0.465837 -2.832634   \n",
              "1 -1.140216 -0.833250  ... -1.203151  0.750136 -1.417751  1.254152  0.631731   \n",
              "2 -1.555958  0.825006  ...  0.249654  0.368800  0.079523 -0.932425 -0.693293   \n",
              "3 -0.582687  0.052355  ...  0.667730  0.595494  0.454502 -0.366884 -0.399758   \n",
              "4  0.680886  0.389930  ... -0.494161  0.784050 -0.311236  2.447118  1.127650   \n",
              "\n",
              "         45        46        47        48        49  \n",
              "0  0.917297 -0.241052 -2.122105  0.253170  0.164617  \n",
              "1  1.665469 -0.388293 -0.804782 -0.227182  0.412375  \n",
              "2 -0.114197 -1.252067  0.834270 -0.463270  0.559294  \n",
              "3  1.113102  0.126707  0.474569 -0.158103  1.197710  \n",
              "4  0.086733 -0.381553  0.209684  0.197809 -0.879914  \n",
              "\n",
              "[5 rows x 53 columns]"
            ],
            "text/html": [
              "\n",
              "  <div id=\"df-47365190-19e2-4855-8306-ef4a48a0b0de\">\n",
              "    <div class=\"colab-df-container\">\n",
              "      <div>\n",
              "<style scoped>\n",
              "    .dataframe tbody tr th:only-of-type {\n",
              "        vertical-align: middle;\n",
              "    }\n",
              "\n",
              "    .dataframe tbody tr th {\n",
              "        vertical-align: top;\n",
              "    }\n",
              "\n",
              "    .dataframe thead th {\n",
              "        text-align: right;\n",
              "    }\n",
              "</style>\n",
              "<table border=\"1\" class=\"dataframe\">\n",
              "  <thead>\n",
              "    <tr style=\"text-align: right;\">\n",
              "      <th></th>\n",
              "      <th>Label</th>\n",
              "      <th>Gender</th>\n",
              "      <th>Ethnicity</th>\n",
              "      <th>0</th>\n",
              "      <th>1</th>\n",
              "      <th>2</th>\n",
              "      <th>3</th>\n",
              "      <th>4</th>\n",
              "      <th>5</th>\n",
              "      <th>6</th>\n",
              "      <th>...</th>\n",
              "      <th>40</th>\n",
              "      <th>41</th>\n",
              "      <th>42</th>\n",
              "      <th>43</th>\n",
              "      <th>44</th>\n",
              "      <th>45</th>\n",
              "      <th>46</th>\n",
              "      <th>47</th>\n",
              "      <th>48</th>\n",
              "      <th>49</th>\n",
              "    </tr>\n",
              "  </thead>\n",
              "  <tbody>\n",
              "    <tr>\n",
              "      <th>0</th>\n",
              "      <td>1</td>\n",
              "      <td>Female</td>\n",
              "      <td>Black</td>\n",
              "      <td>-0.178832</td>\n",
              "      <td>0.147077</td>\n",
              "      <td>0.775331</td>\n",
              "      <td>-0.427889</td>\n",
              "      <td>0.640818</td>\n",
              "      <td>-0.610427</td>\n",
              "      <td>-1.023371</td>\n",
              "      <td>...</td>\n",
              "      <td>0.513206</td>\n",
              "      <td>-0.042387</td>\n",
              "      <td>-0.355889</td>\n",
              "      <td>-0.465837</td>\n",
              "      <td>-2.832634</td>\n",
              "      <td>0.917297</td>\n",
              "      <td>-0.241052</td>\n",
              "      <td>-2.122105</td>\n",
              "      <td>0.253170</td>\n",
              "      <td>0.164617</td>\n",
              "    </tr>\n",
              "    <tr>\n",
              "      <th>1</th>\n",
              "      <td>1</td>\n",
              "      <td>Male</td>\n",
              "      <td>Hispanic</td>\n",
              "      <td>0.092276</td>\n",
              "      <td>0.122023</td>\n",
              "      <td>0.482935</td>\n",
              "      <td>-0.232131</td>\n",
              "      <td>-1.939064</td>\n",
              "      <td>-1.140216</td>\n",
              "      <td>-0.833250</td>\n",
              "      <td>...</td>\n",
              "      <td>-1.203151</td>\n",
              "      <td>0.750136</td>\n",
              "      <td>-1.417751</td>\n",
              "      <td>1.254152</td>\n",
              "      <td>0.631731</td>\n",
              "      <td>1.665469</td>\n",
              "      <td>-0.388293</td>\n",
              "      <td>-0.804782</td>\n",
              "      <td>-0.227182</td>\n",
              "      <td>0.412375</td>\n",
              "    </tr>\n",
              "    <tr>\n",
              "      <th>2</th>\n",
              "      <td>0</td>\n",
              "      <td>Female</td>\n",
              "      <td>Hispanic</td>\n",
              "      <td>-1.703377</td>\n",
              "      <td>-0.962149</td>\n",
              "      <td>-0.785495</td>\n",
              "      <td>-0.633902</td>\n",
              "      <td>-0.334718</td>\n",
              "      <td>-1.555958</td>\n",
              "      <td>0.825006</td>\n",
              "      <td>...</td>\n",
              "      <td>0.249654</td>\n",
              "      <td>0.368800</td>\n",
              "      <td>0.079523</td>\n",
              "      <td>-0.932425</td>\n",
              "      <td>-0.693293</td>\n",
              "      <td>-0.114197</td>\n",
              "      <td>-1.252067</td>\n",
              "      <td>0.834270</td>\n",
              "      <td>-0.463270</td>\n",
              "      <td>0.559294</td>\n",
              "    </tr>\n",
              "    <tr>\n",
              "      <th>3</th>\n",
              "      <td>0</td>\n",
              "      <td>None</td>\n",
              "      <td>None</td>\n",
              "      <td>-1.229715</td>\n",
              "      <td>-1.342997</td>\n",
              "      <td>-0.093382</td>\n",
              "      <td>0.136900</td>\n",
              "      <td>1.195076</td>\n",
              "      <td>-0.582687</td>\n",
              "      <td>0.052355</td>\n",
              "      <td>...</td>\n",
              "      <td>0.667730</td>\n",
              "      <td>0.595494</td>\n",
              "      <td>0.454502</td>\n",
              "      <td>-0.366884</td>\n",
              "      <td>-0.399758</td>\n",
              "      <td>1.113102</td>\n",
              "      <td>0.126707</td>\n",
              "      <td>0.474569</td>\n",
              "      <td>-0.158103</td>\n",
              "      <td>1.197710</td>\n",
              "    </tr>\n",
              "    <tr>\n",
              "      <th>4</th>\n",
              "      <td>1</td>\n",
              "      <td>Male</td>\n",
              "      <td>Hispanic</td>\n",
              "      <td>-0.363013</td>\n",
              "      <td>1.264307</td>\n",
              "      <td>1.667603</td>\n",
              "      <td>0.903941</td>\n",
              "      <td>-0.062840</td>\n",
              "      <td>0.680886</td>\n",
              "      <td>0.389930</td>\n",
              "      <td>...</td>\n",
              "      <td>-0.494161</td>\n",
              "      <td>0.784050</td>\n",
              "      <td>-0.311236</td>\n",
              "      <td>2.447118</td>\n",
              "      <td>1.127650</td>\n",
              "      <td>0.086733</td>\n",
              "      <td>-0.381553</td>\n",
              "      <td>0.209684</td>\n",
              "      <td>0.197809</td>\n",
              "      <td>-0.879914</td>\n",
              "    </tr>\n",
              "  </tbody>\n",
              "</table>\n",
              "<p>5 rows × 53 columns</p>\n",
              "</div>\n",
              "      <button class=\"colab-df-convert\" onclick=\"convertToInteractive('df-47365190-19e2-4855-8306-ef4a48a0b0de')\"\n",
              "              title=\"Convert this dataframe to an interactive table.\"\n",
              "              style=\"display:none;\">\n",
              "        \n",
              "  <svg xmlns=\"http://www.w3.org/2000/svg\" height=\"24px\"viewBox=\"0 0 24 24\"\n",
              "       width=\"24px\">\n",
              "    <path d=\"M0 0h24v24H0V0z\" fill=\"none\"/>\n",
              "    <path d=\"M18.56 5.44l.94 2.06.94-2.06 2.06-.94-2.06-.94-.94-2.06-.94 2.06-2.06.94zm-11 1L8.5 8.5l.94-2.06 2.06-.94-2.06-.94L8.5 2.5l-.94 2.06-2.06.94zm10 10l.94 2.06.94-2.06 2.06-.94-2.06-.94-.94-2.06-.94 2.06-2.06.94z\"/><path d=\"M17.41 7.96l-1.37-1.37c-.4-.4-.92-.59-1.43-.59-.52 0-1.04.2-1.43.59L10.3 9.45l-7.72 7.72c-.78.78-.78 2.05 0 2.83L4 21.41c.39.39.9.59 1.41.59.51 0 1.02-.2 1.41-.59l7.78-7.78 2.81-2.81c.8-.78.8-2.07 0-2.86zM5.41 20L4 18.59l7.72-7.72 1.47 1.35L5.41 20z\"/>\n",
              "  </svg>\n",
              "      </button>\n",
              "      \n",
              "  <style>\n",
              "    .colab-df-container {\n",
              "      display:flex;\n",
              "      flex-wrap:wrap;\n",
              "      gap: 12px;\n",
              "    }\n",
              "\n",
              "    .colab-df-convert {\n",
              "      background-color: #E8F0FE;\n",
              "      border: none;\n",
              "      border-radius: 50%;\n",
              "      cursor: pointer;\n",
              "      display: none;\n",
              "      fill: #1967D2;\n",
              "      height: 32px;\n",
              "      padding: 0 0 0 0;\n",
              "      width: 32px;\n",
              "    }\n",
              "\n",
              "    .colab-df-convert:hover {\n",
              "      background-color: #E2EBFA;\n",
              "      box-shadow: 0px 1px 2px rgba(60, 64, 67, 0.3), 0px 1px 3px 1px rgba(60, 64, 67, 0.15);\n",
              "      fill: #174EA6;\n",
              "    }\n",
              "\n",
              "    [theme=dark] .colab-df-convert {\n",
              "      background-color: #3B4455;\n",
              "      fill: #D2E3FC;\n",
              "    }\n",
              "\n",
              "    [theme=dark] .colab-df-convert:hover {\n",
              "      background-color: #434B5C;\n",
              "      box-shadow: 0px 1px 3px 1px rgba(0, 0, 0, 0.15);\n",
              "      filter: drop-shadow(0px 1px 2px rgba(0, 0, 0, 0.3));\n",
              "      fill: #FFFFFF;\n",
              "    }\n",
              "  </style>\n",
              "\n",
              "      <script>\n",
              "        const buttonEl =\n",
              "          document.querySelector('#df-47365190-19e2-4855-8306-ef4a48a0b0de button.colab-df-convert');\n",
              "        buttonEl.style.display =\n",
              "          google.colab.kernel.accessAllowed ? 'block' : 'none';\n",
              "\n",
              "        async function convertToInteractive(key) {\n",
              "          const element = document.querySelector('#df-47365190-19e2-4855-8306-ef4a48a0b0de');\n",
              "          const dataTable =\n",
              "            await google.colab.kernel.invokeFunction('convertToInteractive',\n",
              "                                                     [key], {});\n",
              "          if (!dataTable) return;\n",
              "\n",
              "          const docLinkHtml = 'Like what you see? Visit the ' +\n",
              "            '<a target=\"_blank\" href=https://colab.research.google.com/notebooks/data_table.ipynb>data table notebook</a>'\n",
              "            + ' to learn more about interactive tables.';\n",
              "          element.innerHTML = '';\n",
              "          dataTable['output_type'] = 'display_data';\n",
              "          await google.colab.output.renderOutput(dataTable, element);\n",
              "          const docLink = document.createElement('div');\n",
              "          docLink.innerHTML = docLinkHtml;\n",
              "          element.appendChild(docLink);\n",
              "        }\n",
              "      </script>\n",
              "    </div>\n",
              "  </div>\n",
              "  "
            ]
          },
          "metadata": {},
          "execution_count": 18
        }
      ]
    },
    {
      "cell_type": "code",
      "execution_count": 5,
      "metadata": {
        "id": "10MtLhW9D_qS",
        "colab": {
          "base_uri": "https://localhost:8080/",
          "height": 112
        },
        "outputId": "1c792e52-9c2a-47b1-84f3-a8a3d3af1fdc"
      },
      "outputs": [
        {
          "output_type": "execute_result",
          "data": {
            "text/plain": [
              "           missing_values\n",
              "Gender               1238\n",
              "Ethnicity            1238"
            ],
            "text/html": [
              "\n",
              "  <div id=\"df-94060d36-5109-45a6-b074-eeaf17920fff\">\n",
              "    <div class=\"colab-df-container\">\n",
              "      <div>\n",
              "<style scoped>\n",
              "    .dataframe tbody tr th:only-of-type {\n",
              "        vertical-align: middle;\n",
              "    }\n",
              "\n",
              "    .dataframe tbody tr th {\n",
              "        vertical-align: top;\n",
              "    }\n",
              "\n",
              "    .dataframe thead th {\n",
              "        text-align: right;\n",
              "    }\n",
              "</style>\n",
              "<table border=\"1\" class=\"dataframe\">\n",
              "  <thead>\n",
              "    <tr style=\"text-align: right;\">\n",
              "      <th></th>\n",
              "      <th>missing_values</th>\n",
              "    </tr>\n",
              "  </thead>\n",
              "  <tbody>\n",
              "    <tr>\n",
              "      <th>Gender</th>\n",
              "      <td>1238</td>\n",
              "    </tr>\n",
              "    <tr>\n",
              "      <th>Ethnicity</th>\n",
              "      <td>1238</td>\n",
              "    </tr>\n",
              "  </tbody>\n",
              "</table>\n",
              "</div>\n",
              "      <button class=\"colab-df-convert\" onclick=\"convertToInteractive('df-94060d36-5109-45a6-b074-eeaf17920fff')\"\n",
              "              title=\"Convert this dataframe to an interactive table.\"\n",
              "              style=\"display:none;\">\n",
              "        \n",
              "  <svg xmlns=\"http://www.w3.org/2000/svg\" height=\"24px\"viewBox=\"0 0 24 24\"\n",
              "       width=\"24px\">\n",
              "    <path d=\"M0 0h24v24H0V0z\" fill=\"none\"/>\n",
              "    <path d=\"M18.56 5.44l.94 2.06.94-2.06 2.06-.94-2.06-.94-.94-2.06-.94 2.06-2.06.94zm-11 1L8.5 8.5l.94-2.06 2.06-.94-2.06-.94L8.5 2.5l-.94 2.06-2.06.94zm10 10l.94 2.06.94-2.06 2.06-.94-2.06-.94-.94-2.06-.94 2.06-2.06.94z\"/><path d=\"M17.41 7.96l-1.37-1.37c-.4-.4-.92-.59-1.43-.59-.52 0-1.04.2-1.43.59L10.3 9.45l-7.72 7.72c-.78.78-.78 2.05 0 2.83L4 21.41c.39.39.9.59 1.41.59.51 0 1.02-.2 1.41-.59l7.78-7.78 2.81-2.81c.8-.78.8-2.07 0-2.86zM5.41 20L4 18.59l7.72-7.72 1.47 1.35L5.41 20z\"/>\n",
              "  </svg>\n",
              "      </button>\n",
              "      \n",
              "  <style>\n",
              "    .colab-df-container {\n",
              "      display:flex;\n",
              "      flex-wrap:wrap;\n",
              "      gap: 12px;\n",
              "    }\n",
              "\n",
              "    .colab-df-convert {\n",
              "      background-color: #E8F0FE;\n",
              "      border: none;\n",
              "      border-radius: 50%;\n",
              "      cursor: pointer;\n",
              "      display: none;\n",
              "      fill: #1967D2;\n",
              "      height: 32px;\n",
              "      padding: 0 0 0 0;\n",
              "      width: 32px;\n",
              "    }\n",
              "\n",
              "    .colab-df-convert:hover {\n",
              "      background-color: #E2EBFA;\n",
              "      box-shadow: 0px 1px 2px rgba(60, 64, 67, 0.3), 0px 1px 3px 1px rgba(60, 64, 67, 0.15);\n",
              "      fill: #174EA6;\n",
              "    }\n",
              "\n",
              "    [theme=dark] .colab-df-convert {\n",
              "      background-color: #3B4455;\n",
              "      fill: #D2E3FC;\n",
              "    }\n",
              "\n",
              "    [theme=dark] .colab-df-convert:hover {\n",
              "      background-color: #434B5C;\n",
              "      box-shadow: 0px 1px 3px 1px rgba(0, 0, 0, 0.15);\n",
              "      filter: drop-shadow(0px 1px 2px rgba(0, 0, 0, 0.3));\n",
              "      fill: #FFFFFF;\n",
              "    }\n",
              "  </style>\n",
              "\n",
              "      <script>\n",
              "        const buttonEl =\n",
              "          document.querySelector('#df-94060d36-5109-45a6-b074-eeaf17920fff button.colab-df-convert');\n",
              "        buttonEl.style.display =\n",
              "          google.colab.kernel.accessAllowed ? 'block' : 'none';\n",
              "\n",
              "        async function convertToInteractive(key) {\n",
              "          const element = document.querySelector('#df-94060d36-5109-45a6-b074-eeaf17920fff');\n",
              "          const dataTable =\n",
              "            await google.colab.kernel.invokeFunction('convertToInteractive',\n",
              "                                                     [key], {});\n",
              "          if (!dataTable) return;\n",
              "\n",
              "          const docLinkHtml = 'Like what you see? Visit the ' +\n",
              "            '<a target=\"_blank\" href=https://colab.research.google.com/notebooks/data_table.ipynb>data table notebook</a>'\n",
              "            + ' to learn more about interactive tables.';\n",
              "          element.innerHTML = '';\n",
              "          dataTable['output_type'] = 'display_data';\n",
              "          await google.colab.output.renderOutput(dataTable, element);\n",
              "          const docLink = document.createElement('div');\n",
              "          docLink.innerHTML = docLinkHtml;\n",
              "          element.appendChild(docLink);\n",
              "        }\n",
              "      </script>\n",
              "    </div>\n",
              "  </div>\n",
              "  "
            ]
          },
          "metadata": {},
          "execution_count": 5
        }
      ],
      "source": [
        "data.isnull().sum().to_frame(name='missing_values').query('missing_values > 0')\n"
      ]
    },
    {
      "cell_type": "code",
      "execution_count": 6,
      "metadata": {
        "id": "8CzlOtdMD_w-",
        "colab": {
          "base_uri": "https://localhost:8080/"
        },
        "outputId": "945b08de-bcc9-45ae-a229-6e7d675d0523"
      },
      "outputs": [
        {
          "output_type": "execute_result",
          "data": {
            "text/plain": [
              "(1238, 53)"
            ]
          },
          "metadata": {},
          "execution_count": 6
        }
      ],
      "source": [
        "#checking whether all rows with missing values for Gender have missing values for Ethnicity as well\n",
        "verify_df = data.loc[(data['Gender'].isnull()) & (data['Ethnicity'].isnull())]\n",
        "verify_df.shape\n"
      ]
    },
    {
      "cell_type": "code",
      "source": [
        "import missingno as msno\n",
        "fig = msno.bar(data, figsize=(5,5), fontsize = 6, sort=\"descending\")\n",
        "\n"
      ],
      "metadata": {
        "colab": {
          "base_uri": "https://localhost:8080/",
          "height": 464
        },
        "id": "YsMrEHT-VAqQ",
        "outputId": "36f6f23c-6b9d-4aad-a5f4-1fb92b5013f2"
      },
      "execution_count": 17,
      "outputs": [
        {
          "output_type": "display_data",
          "data": {
            "text/plain": [
              "<Figure size 500x500 with 3 Axes>"
            ],
            "image/png": "[encoded data removed]"
          },
          "metadata": {}
        }
      ]
    },
    {
      "cell_type": "markdown",
      "metadata": {
        "id": "QabzuO7TI43r"
      },
      "source": [
        "## **3. Demographics of the dataset and average ground-truth success rate for each group**"
      ]
    },
    {
      "cell_type": "markdown",
      "metadata": {
        "id": "IzXlWykkEe18"
      },
      "source": [
        "**Questions** :\n",
        "- **What groups are represented for gender/ethnicity?** Draw histograms of the *Gender* and *Ethnicity* columns in *data*.\n",
        "- **Exploring the labels in y, what proportions of all the candidates population receives a positive outcome ?**\n",
        "- **Now let's calculate the proportion of positive outcome (or success rate) for each gender and ethnicity.**\n",
        "\n",
        "Notes:\n",
        "- Because the label is 0 or 1, calculating the proportion of positive outcome is the same as calculating the mean y values.\n",
        "- For this section, we will replace the nan values in the *Gender* and *Ethnicity* columns with a string so that our code will treat these candidates as if they were their own group.\n",
        "- Usual histogram plotting functions ignore nan values. Because we have changed these into strings, the nan group won't be ignored here."
      ]
    },
    {
      "cell_type": "code",
      "execution_count": 18,
      "metadata": {
        "id": "bCRlQauxT1Gx"
      },
      "outputs": [],
      "source": [
        "# replace nan values with 'nan' string\n",
        "data = raw_data.copy() # work with the \"data\" dataframe (simple copy of the raw dataframe)\n",
        "data = data.fillna(\"nan\")"
      ]
    },
    {
      "cell_type": "code",
      "execution_count": 19,
      "metadata": {
        "id": "J1ftZ2dZEEBb",
        "colab": {
          "base_uri": "https://localhost:8080/",
          "height": 449
        },
        "outputId": "a02d3e33-205d-4036-d82d-5f6ca616b057"
      },
      "outputs": [
        {
          "output_type": "display_data",
          "data": {
            "text/plain": [
              "<Figure size 640x480 with 1 Axes>"
            ],
            "image/png": "[encoded data removed]"
          },
          "metadata": {}
        }
      ],
      "source": [
        "sns.set_palette(\"Paired\")\n",
        "sns.countplot(x=data['Gender'],\n",
        "                   order=data['Gender'].value_counts(ascending=False).index);"
      ]
    },
    {
      "cell_type": "code",
      "execution_count": 20,
      "metadata": {
        "id": "2rmRWcF1EEDz",
        "colab": {
          "base_uri": "https://localhost:8080/",
          "height": 449
        },
        "outputId": "3ad4e588-ede2-44f5-cd60-dd01cbc11bca"
      },
      "outputs": [
        {
          "output_type": "display_data",
          "data": {
            "text/plain": [
              "<Figure size 640x480 with 1 Axes>"
            ],
            "image/png": "[encoded data removed]"
          },
          "metadata": {}
        }
      ],
      "source": [
        "sns.set_palette(\"Paired\")\n",
        "sns.countplot(x=data['Ethnicity'],\n",
        "                   order=data['Ethnicity'].value_counts(ascending=False).index);"
      ]
    },
    {
      "cell_type": "code",
      "source": [
        "sns.set_palette(\"Paired\")\n",
        "sns.countplot(x=data['Label'],\n",
        "                   order=data['Label'].value_counts(ascending=False).index);"
      ],
      "metadata": {
        "colab": {
          "base_uri": "https://localhost:8080/",
          "height": 449
        },
        "id": "u0HMHtp3XeXU",
        "outputId": "0aaa24f7-ce3a-451e-ccb6-bb9da1dec06d"
      },
      "execution_count": 22,
      "outputs": [
        {
          "output_type": "display_data",
          "data": {
            "text/plain": [
              "<Figure size 640x480 with 1 Axes>"
            ],
            "image/png": "[encoded data removed]"
          },
          "metadata": {}
        }
      ]
    },
    {
      "cell_type": "code",
      "source": [
        "#SR calculations\n",
        "Mean_Score_per_Gender = data.groupby(by = ['Gender'])['Label'].mean().to_frame(name = 'Success Rate')\n",
        "Mean_Score_per_Ethnicity = data.groupby(by = ['Ethnicity'])['Label'].mean().to_frame(name = 'Success Rate')"
      ],
      "metadata": {
        "id": "oWXVMkHYXnWd"
      },
      "execution_count": 34,
      "outputs": []
    },
    {
      "cell_type": "code",
      "source": [
        "Mean_Score_per_Gender"
      ],
      "metadata": {
        "colab": {
          "base_uri": "https://localhost:8080/",
          "height": 175
        },
        "id": "eRgGLp5gYS0k",
        "outputId": "91891b93-befb-446c-a891-d558a2aaadca"
      },
      "execution_count": 35,
      "outputs": [
        {
          "output_type": "execute_result",
          "data": {
            "text/plain": [
              "        Success Rate\n",
              "Gender              \n",
              "Female      0.379919\n",
              "Male        0.374359\n",
              "nan         0.305331"
            ],
            "text/html": [
              "\n",
              "  <div id=\"df-a2b8b900-2961-4435-ac88-ab8ab29360d3\">\n",
              "    <div class=\"colab-df-container\">\n",
              "      <div>\n",
              "<style scoped>\n",
              "    .dataframe tbody tr th:only-of-type {\n",
              "        vertical-align: middle;\n",
              "    }\n",
              "\n",
              "    .dataframe tbody tr th {\n",
              "        vertical-align: top;\n",
              "    }\n",
              "\n",
              "    .dataframe thead th {\n",
              "        text-align: right;\n",
              "    }\n",
              "</style>\n",
              "<table border=\"1\" class=\"dataframe\">\n",
              "  <thead>\n",
              "    <tr style=\"text-align: right;\">\n",
              "      <th></th>\n",
              "      <th>Success Rate</th>\n",
              "    </tr>\n",
              "    <tr>\n",
              "      <th>Gender</th>\n",
              "      <th></th>\n",
              "    </tr>\n",
              "  </thead>\n",
              "  <tbody>\n",
              "    <tr>\n",
              "      <th>Female</th>\n",
              "      <td>0.379919</td>\n",
              "    </tr>\n",
              "    <tr>\n",
              "      <th>Male</th>\n",
              "      <td>0.374359</td>\n",
              "    </tr>\n",
              "    <tr>\n",
              "      <th>nan</th>\n",
              "      <td>0.305331</td>\n",
              "    </tr>\n",
              "  </tbody>\n",
              "</table>\n",
              "</div>\n",
              "      <button class=\"colab-df-convert\" onclick=\"convertToInteractive('df-a2b8b900-2961-4435-ac88-ab8ab29360d3')\"\n",
              "              title=\"Convert this dataframe to an interactive table.\"\n",
              "              style=\"display:none;\">\n",
              "        \n",
              "  <svg xmlns=\"http://www.w3.org/2000/svg\" height=\"24px\"viewBox=\"0 0 24 24\"\n",
              "       width=\"24px\">\n",
              "    <path d=\"M0 0h24v24H0V0z\" fill=\"none\"/>\n",
              "    <path d=\"M18.56 5.44l.94 2.06.94-2.06 2.06-.94-2.06-.94-.94-2.06-.94 2.06-2.06.94zm-11 1L8.5 8.5l.94-2.06 2.06-.94-2.06-.94L8.5 2.5l-.94 2.06-2.06.94zm10 10l.94 2.06.94-2.06 2.06-.94-2.06-.94-.94-2.06-.94 2.06-2.06.94z\"/><path d=\"M17.41 7.96l-1.37-1.37c-.4-.4-.92-.59-1.43-.59-.52 0-1.04.2-1.43.59L10.3 9.45l-7.72 7.72c-.78.78-.78 2.05 0 2.83L4 21.41c.39.39.9.59 1.41.59.51 0 1.02-.2 1.41-.59l7.78-7.78 2.81-2.81c.8-.78.8-2.07 0-2.86zM5.41 20L4 18.59l7.72-7.72 1.47 1.35L5.41 20z\"/>\n",
              "  </svg>\n",
              "      </button>\n",
              "      \n",
              "  <style>\n",
              "    .colab-df-container {\n",
              "      display:flex;\n",
              "      flex-wrap:wrap;\n",
              "      gap: 12px;\n",
              "    }\n",
              "\n",
              "    .colab-df-convert {\n",
              "      background-color: #E8F0FE;\n",
              "      border: none;\n",
              "      border-radius: 50%;\n",
              "      cursor: pointer;\n",
              "      display: none;\n",
              "      fill: #1967D2;\n",
              "      height: 32px;\n",
              "      padding: 0 0 0 0;\n",
              "      width: 32px;\n",
              "    }\n",
              "\n",
              "    .colab-df-convert:hover {\n",
              "      background-color: #E2EBFA;\n",
              "      box-shadow: 0px 1px 2px rgba(60, 64, 67, 0.3), 0px 1px 3px 1px rgba(60, 64, 67, 0.15);\n",
              "      fill: #174EA6;\n",
              "    }\n",
              "\n",
              "    [theme=dark] .colab-df-convert {\n",
              "      background-color: #3B4455;\n",
              "      fill: #D2E3FC;\n",
              "    }\n",
              "\n",
              "    [theme=dark] .colab-df-convert:hover {\n",
              "      background-color: #434B5C;\n",
              "      box-shadow: 0px 1px 3px 1px rgba(0, 0, 0, 0.15);\n",
              "      filter: drop-shadow(0px 1px 2px rgba(0, 0, 0, 0.3));\n",
              "      fill: #FFFFFF;\n",
              "    }\n",
              "  </style>\n",
              "\n",
              "      <script>\n",
              "        const buttonEl =\n",
              "          document.querySelector('#df-a2b8b900-2961-4435-ac88-ab8ab29360d3 button.colab-df-convert');\n",
              "        buttonEl.style.display =\n",
              "          google.colab.kernel.accessAllowed ? 'block' : 'none';\n",
              "\n",
              "        async function convertToInteractive(key) {\n",
              "          const element = document.querySelector('#df-a2b8b900-2961-4435-ac88-ab8ab29360d3');\n",
              "          const dataTable =\n",
              "            await google.colab.kernel.invokeFunction('convertToInteractive',\n",
              "                                                     [key], {});\n",
              "          if (!dataTable) return;\n",
              "\n",
              "          const docLinkHtml = 'Like what you see? Visit the ' +\n",
              "            '<a target=\"_blank\" href=https://colab.research.google.com/notebooks/data_table.ipynb>data table notebook</a>'\n",
              "            + ' to learn more about interactive tables.';\n",
              "          element.innerHTML = '';\n",
              "          dataTable['output_type'] = 'display_data';\n",
              "          await google.colab.output.renderOutput(dataTable, element);\n",
              "          const docLink = document.createElement('div');\n",
              "          docLink.innerHTML = docLinkHtml;\n",
              "          element.appendChild(docLink);\n",
              "        }\n",
              "      </script>\n",
              "    </div>\n",
              "  </div>\n",
              "  "
            ]
          },
          "metadata": {},
          "execution_count": 35
        }
      ]
    },
    {
      "cell_type": "code",
      "source": [
        "Mean_Score_per_Ethnicity"
      ],
      "metadata": {
        "colab": {
          "base_uri": "https://localhost:8080/",
          "height": 238
        },
        "id": "HRIn6QhnYU4P",
        "outputId": "757b0884-d341-49a9-8a30-0db370b3cb20"
      },
      "execution_count": 36,
      "outputs": [
        {
          "output_type": "execute_result",
          "data": {
            "text/plain": [
              "           Success Rate\n",
              "Ethnicity              \n",
              "Asian          0.325424\n",
              "Black          0.353289\n",
              "Hispanic       0.387790\n",
              "White          0.398238\n",
              "nan            0.305331"
            ],
            "text/html": [
              "\n",
              "  <div id=\"df-9ec19018-1592-4945-b7cd-0534487b0b09\">\n",
              "    <div class=\"colab-df-container\">\n",
              "      <div>\n",
              "<style scoped>\n",
              "    .dataframe tbody tr th:only-of-type {\n",
              "        vertical-align: middle;\n",
              "    }\n",
              "\n",
              "    .dataframe tbody tr th {\n",
              "        vertical-align: top;\n",
              "    }\n",
              "\n",
              "    .dataframe thead th {\n",
              "        text-align: right;\n",
              "    }\n",
              "</style>\n",
              "<table border=\"1\" class=\"dataframe\">\n",
              "  <thead>\n",
              "    <tr style=\"text-align: right;\">\n",
              "      <th></th>\n",
              "      <th>Success Rate</th>\n",
              "    </tr>\n",
              "    <tr>\n",
              "      <th>Ethnicity</th>\n",
              "      <th></th>\n",
              "    </tr>\n",
              "  </thead>\n",
              "  <tbody>\n",
              "    <tr>\n",
              "      <th>Asian</th>\n",
              "      <td>0.325424</td>\n",
              "    </tr>\n",
              "    <tr>\n",
              "      <th>Black</th>\n",
              "      <td>0.353289</td>\n",
              "    </tr>\n",
              "    <tr>\n",
              "      <th>Hispanic</th>\n",
              "      <td>0.387790</td>\n",
              "    </tr>\n",
              "    <tr>\n",
              "      <th>White</th>\n",
              "      <td>0.398238</td>\n",
              "    </tr>\n",
              "    <tr>\n",
              "      <th>nan</th>\n",
              "      <td>0.305331</td>\n",
              "    </tr>\n",
              "  </tbody>\n",
              "</table>\n",
              "</div>\n",
              "      <button class=\"colab-df-convert\" onclick=\"convertToInteractive('df-9ec19018-1592-4945-b7cd-0534487b0b09')\"\n",
              "              title=\"Convert this dataframe to an interactive table.\"\n",
              "              style=\"display:none;\">\n",
              "        \n",
              "  <svg xmlns=\"http://www.w3.org/2000/svg\" height=\"24px\"viewBox=\"0 0 24 24\"\n",
              "       width=\"24px\">\n",
              "    <path d=\"M0 0h24v24H0V0z\" fill=\"none\"/>\n",
              "    <path d=\"M18.56 5.44l.94 2.06.94-2.06 2.06-.94-2.06-.94-.94-2.06-.94 2.06-2.06.94zm-11 1L8.5 8.5l.94-2.06 2.06-.94-2.06-.94L8.5 2.5l-.94 2.06-2.06.94zm10 10l.94 2.06.94-2.06 2.06-.94-2.06-.94-.94-2.06-.94 2.06-2.06.94z\"/><path d=\"M17.41 7.96l-1.37-1.37c-.4-.4-.92-.59-1.43-.59-.52 0-1.04.2-1.43.59L10.3 9.45l-7.72 7.72c-.78.78-.78 2.05 0 2.83L4 21.41c.39.39.9.59 1.41.59.51 0 1.02-.2 1.41-.59l7.78-7.78 2.81-2.81c.8-.78.8-2.07 0-2.86zM5.41 20L4 18.59l7.72-7.72 1.47 1.35L5.41 20z\"/>\n",
              "  </svg>\n",
              "      </button>\n",
              "      \n",
              "  <style>\n",
              "    .colab-df-container {\n",
              "      display:flex;\n",
              "      flex-wrap:wrap;\n",
              "      gap: 12px;\n",
              "    }\n",
              "\n",
              "    .colab-df-convert {\n",
              "      background-color: #E8F0FE;\n",
              "      border: none;\n",
              "      border-radius: 50%;\n",
              "      cursor: pointer;\n",
              "      display: none;\n",
              "      fill: #1967D2;\n",
              "      height: 32px;\n",
              "      padding: 0 0 0 0;\n",
              "      width: 32px;\n",
              "    }\n",
              "\n",
              "    .colab-df-convert:hover {\n",
              "      background-color: #E2EBFA;\n",
              "      box-shadow: 0px 1px 2px rgba(60, 64, 67, 0.3), 0px 1px 3px 1px rgba(60, 64, 67, 0.15);\n",
              "      fill: #174EA6;\n",
              "    }\n",
              "\n",
              "    [theme=dark] .colab-df-convert {\n",
              "      background-color: #3B4455;\n",
              "      fill: #D2E3FC;\n",
              "    }\n",
              "\n",
              "    [theme=dark] .colab-df-convert:hover {\n",
              "      background-color: #434B5C;\n",
              "      box-shadow: 0px 1px 3px 1px rgba(0, 0, 0, 0.15);\n",
              "      filter: drop-shadow(0px 1px 2px rgba(0, 0, 0, 0.3));\n",
              "      fill: #FFFFFF;\n",
              "    }\n",
              "  </style>\n",
              "\n",
              "      <script>\n",
              "        const buttonEl =\n",
              "          document.querySelector('#df-9ec19018-1592-4945-b7cd-0534487b0b09 button.colab-df-convert');\n",
              "        buttonEl.style.display =\n",
              "          google.colab.kernel.accessAllowed ? 'block' : 'none';\n",
              "\n",
              "        async function convertToInteractive(key) {\n",
              "          const element = document.querySelector('#df-9ec19018-1592-4945-b7cd-0534487b0b09');\n",
              "          const dataTable =\n",
              "            await google.colab.kernel.invokeFunction('convertToInteractive',\n",
              "                                                     [key], {});\n",
              "          if (!dataTable) return;\n",
              "\n",
              "          const docLinkHtml = 'Like what you see? Visit the ' +\n",
              "            '<a target=\"_blank\" href=https://colab.research.google.com/notebooks/data_table.ipynb>data table notebook</a>'\n",
              "            + ' to learn more about interactive tables.';\n",
              "          element.innerHTML = '';\n",
              "          dataTable['output_type'] = 'display_data';\n",
              "          await google.colab.output.renderOutput(dataTable, element);\n",
              "          const docLink = document.createElement('div');\n",
              "          docLink.innerHTML = docLinkHtml;\n",
              "          element.appendChild(docLink);\n",
              "        }\n",
              "      </script>\n",
              "    </div>\n",
              "  </div>\n",
              "  "
            ]
          },
          "metadata": {},
          "execution_count": 36
        }
      ]
    },
    {
      "cell_type": "markdown",
      "metadata": {
        "id": "AQUWxpIDKgI1"
      },
      "source": [
        "You should find the following success rates per group:\n",
        "\n",
        "\n",
        "| Group | Success Rate |\n",
        "| -: | :-: |\n",
        "**Mean score per gender**\n",
        "| Female |  0.379919 |\n",
        "| Male |  0.374359 |\n",
        "|nan      |   0.305331 |\n",
        "|**Mean score per ethnicity**\n",
        "|Asian     |  0.325424|\n",
        "| Black    |   0.353289|\n",
        "|Hispanic   | 0.387790|\n",
        "|White     |  0.398238|\n",
        "|nan      |   0.305331|\n"
      ]
    },
    {
      "cell_type": "markdown",
      "metadata": {
        "id": "hMYO26_0UkjM"
      },
      "source": [
        "**Note on the nan group :**\n",
        "As seen in the results, the 'nan' group has the lowest success rate. If we continue the fairness analysis by leaving it in, we will see that it is also the group against which there is the strongest bias. Because we have no prior information on how the \"nan\" group was constituted and who is in it, it is difficult to draw any conclusion on what this means. In an ideal world, there should be no subgroups constituted at random against which there's an observable bias. However, we do not know whether this group is randomly constituted or not. Possible reasons for missing data could be: (i) people opted out of providing their ethnicity or gender, (ii) these features could have been reverse-engineered from a photo or video and there was no video available for these candidates, or (iii) a reason that correlates somehow with less qualified candidates.\n",
        "\n",
        "In the remaining of this course, we remove the nan group from the analysis for simplicity. In a real-life context, the reason behind the bias on the nan group should be investigated and mitigating this bias could be needed."
      ]
    },
    {
      "cell_type": "code",
      "execution_count": 37,
      "metadata": {
        "id": "7EmGsg4raHgi"
      },
      "outputs": [],
      "source": [
        "# remove all nans\n",
        "data = data[data['Gender']!= 'nan'].copy()"
      ]
    },
    {
      "cell_type": "markdown",
      "metadata": {
        "id": "RU4xvzSuMBRf"
      },
      "source": [
        "## **4. Looking for proxy features**"
      ]
    },
    {
      "cell_type": "markdown",
      "metadata": {
        "id": "31hKwwU8MJp-"
      },
      "source": [
        "The features do not include explicitely any protected characteristics related to gender or ethnicity. It can de facto be deemed fair with respect to the *Fairness Through Unawareness* definition. However sometimes it is possible to find proxies for protected attributes in the data, meaning that a specific feature might be strongly correlated with a protected characteristic.\n",
        "\n",
        "We can check whether a particular feature is highly correlated with ethnicity or gender by calculating the pearson correlation coefficients of each feature with the gender or ethnicity. Let's demonstrate this for gender only. The same can be done for ethnicity as an exercise.\n",
        "\n",
        "The following code extracts from the data:\n",
        "\n",
        "- the input features X\n",
        "- the gender g\n",
        "\n",
        "\n"
      ]
    },
    {
      "cell_type": "code",
      "execution_count": 38,
      "metadata": {
        "colab": {
          "base_uri": "https://localhost:8080/"
        },
        "id": "aGKuYQtC9lTD",
        "outputId": "f1b87b0b-fc54-4e87-ec65-869fcaaf1327"
      },
      "outputs": [
        {
          "output_type": "stream",
          "name": "stdout",
          "text": [
            "Label for Male is 1. Label for Female is 0\n"
          ]
        }
      ],
      "source": [
        "# copy raw data and drop nan values\n",
        "df = raw_data.copy()\n",
        "df = df.dropna()\n",
        "# Extract X and g\n",
        "X,_,dem = split_data_from_df(df)\n",
        "g = dem['Gender'].values\n",
        "enc = LabelEncoder()\n",
        "g = enc.fit_transform(g)\n",
        "print(\"Label for Male is %d. Label for Female is %d\"%(enc.transform(['Male'])[0],enc.transform(['Female'])[0]))"
      ]
    },
    {
      "cell_type": "markdown",
      "metadata": {
        "id": "Ocf11GDj940s"
      },
      "source": [
        "**Questions** :\n",
        "- **Calculate the correlation between the gender g and all other features.**\n",
        "  - using scipy.stats.pearsonr get the correlation coefficient between g and each feature. You can for instance use a loop to go through each features and store results in a list or 1D array.\n",
        "  - plot a graph with the correlation coefficient on the y axis and features on the X axis.\n",
        "- **Is there any feature correlating highly with gender?**"
      ]
    },
    {
      "cell_type": "code",
      "execution_count": 80,
      "metadata": {
        "id": "f025THi-EG0l"
      },
      "outputs": [],
      "source": [
        "from scipy import stats\n",
        "correlations = pd.DataFrame(columns = ['Features', 'CorrelationCoeff'])\n",
        "correlations.set_index('Features')\n",
        "for i in range(50):\n",
        "  correlations.loc[str(i)] = stats.pearsonr(g, df[str(i)]).statistic\n"
      ]
    },
    {
      "cell_type": "code",
      "source": [
        "plt.figure(figsize=(12,8))\n",
        "sns.barplot(x = correlations.index, y = correlations.CorrelationCoeff)\n"
      ],
      "metadata": {
        "colab": {
          "base_uri": "https://localhost:8080/",
          "height": 694
        },
        "id": "wIbvaecMa15L",
        "outputId": "8419f723-e184-4cf2-c686-fae28ffb6036"
      },
      "execution_count": 82,
      "outputs": [
        {
          "output_type": "execute_result",
          "data": {
            "text/plain": [
              "<Axes: ylabel='CorrelationCoeff'>"
            ]
          },
          "metadata": {},
          "execution_count": 82
        },
        {
          "output_type": "display_data",
          "data": {
            "text/plain": [
              "<Figure size 1200x800 with 1 Axes>"
            ],
            "image/png": "[encoded data removed]"
          },
          "metadata": {}
        }
      ]
    },
    {
      "cell_type": "markdown",
      "metadata": {
        "id": "0PGijvAK9lpY"
      },
      "source": [
        "## **5. Can we still predict the protected characteristic using the entire set of features?**"
      ]
    },
    {
      "cell_type": "markdown",
      "metadata": {
        "id": "WQTbcku99aOd"
      },
      "source": [
        "The previous section should show that there is no single feature that is highly correlated with gender in this case.\n",
        "\n",
        "However, can we still infer the gender or ethnicity of a participant from the features themselves? We will try to build a model that predicts the gender or ethnicity from the features.\n",
        "\n",
        "In this section we use a simple RidgeClassifier to try and do this. The following code defines the classifier, and prepare the data for the task. We will try to predict whether the candidate is a Female or Male.\n",
        "\n",
        "As an optional exercise, you may also repeat that exercise for Black/White ethnicity. This is interesting as the dataset is imbalanced regarding these groups (many more White candidates than Black), hence the results are not as straightforward as for Male/Female."
      ]
    },
    {
      "cell_type": "markdown",
      "metadata": {
        "id": "7v5PQTdLcpo5"
      },
      "source": [
        "### **5.1. Predict Male/Female gender**"
      ]
    },
    {
      "cell_type": "markdown",
      "metadata": {
        "id": "4HvqdcGrZwMC"
      },
      "source": [
        "In the following code we:\n",
        "- encode the *Gender* column into integers\n",
        "- split the data into train and test set. For this section you will need:\n",
        "  - X_train , X_test. are the train and test input features\n",
        "  - g_train, g_test. contain the encoded gender (0 for Female; 1 for Male) and are used as labels in this section\n",
        "- initialize the model"
      ]
    },
    {
      "cell_type": "code",
      "execution_count": 83,
      "metadata": {
        "colab": {
          "base_uri": "https://localhost:8080/"
        },
        "id": "8RluGTRSTQKw",
        "outputId": "b38bccfb-d154-41a7-c0c1-cee0772281d3"
      },
      "outputs": [
        {
          "output_type": "stream",
          "name": "stdout",
          "text": [
            "Label for Male is 1. Label for Female is 0\n"
          ]
        }
      ],
      "source": [
        "# copy raw data and drop nan values\n",
        "df = raw_data.copy()\n",
        "df = df.dropna()\n",
        "# encode 'Gender' column\n",
        "enc = LabelEncoder()\n",
        "df['Gender'] = enc.fit_transform(df['Gender'])\n",
        "print(\"Label for Male is %d. Label for Female is %d\"%(enc.transform(['Male'])[0],enc.transform(['Female'])[0]))\n",
        "# split data train/test (from data without nan)\n",
        "data_train, data_test = train_test_split(df,test_size = 0.3,random_state=41)\n",
        "# get X,y, gender, ethnicity\n",
        "X_train,_,dem_train = split_data_from_df(data_train)\n",
        "g_train = dem_train['Gender']\n",
        "X_test,_,dem_test = split_data_from_df(data_test)\n",
        "g_test = dem_test['Gender']\n",
        "# define model\n",
        "model = RidgeClassifier(random_state = 42)"
      ]
    },
    {
      "cell_type": "markdown",
      "metadata": {
        "id": "E5NcbyU7cw-r"
      },
      "source": [
        "**Instructions:**\n",
        "- **Fit the model on the train set**\n",
        "- **Compute the accuracy and confusion matrix on the test set.**  You can use *accuracy_score* (sklearn.metrics) and *plot_cm* (defined in 1)\n",
        "- **Check the precision, recall and f1 score for each class.** You can use *precision_recall_fscore_support* (sklearn.metrics)."
      ]
    },
    {
      "cell_type": "code",
      "execution_count": 92,
      "metadata": {
        "id": "rxZUGmStEIgC",
        "colab": {
          "base_uri": "https://localhost:8080/"
        },
        "outputId": "6f6c0e43-2971-4636-bd56-532828f5032c"
      },
      "outputs": [
        {
          "output_type": "stream",
          "name": "stdout",
          "text": [
            "Overall accuracy =  0.6135412704450361\n"
          ]
        }
      ],
      "source": [
        "model.fit(X_train, g_train)\n",
        "y_pred = model.predict(X_test)\n",
        "print('Overall accuracy = ', accuracy_score(g_test, y_pred))"
      ]
    },
    {
      "cell_type": "code",
      "execution_count": 93,
      "metadata": {
        "id": "gwtDAvxZEIjU",
        "colab": {
          "base_uri": "https://localhost:8080/",
          "height": 485
        },
        "outputId": "802a63a0-8115-4ed9-e1d4-ae3680afbce8"
      },
      "outputs": [
        {
          "output_type": "execute_result",
          "data": {
            "text/plain": [
              "array([[774, 493],\n",
              "       [523, 839]])"
            ]
          },
          "metadata": {},
          "execution_count": 93
        },
        {
          "output_type": "display_data",
          "data": {
            "text/plain": [
              "<Figure size 640x480 with 2 Axes>"
            ],
            "image/png": "[encoded data removed]"
          },
          "metadata": {}
        }
      ],
      "source": [
        "plot_cm(g_test, y_pred)"
      ]
    },
    {
      "cell_type": "code",
      "execution_count": 94,
      "metadata": {
        "id": "UhgsjiMXEIsh",
        "colab": {
          "base_uri": "https://localhost:8080/"
        },
        "outputId": "3e8dee82-5972-46a3-934e-3fa2773e1862"
      },
      "outputs": [
        {
          "output_type": "execute_result",
          "data": {
            "text/plain": [
              "(array([0.62987988, 0.59676176]),\n",
              " array([0.61600587, 0.61089187]),\n",
              " array([0.62286563, 0.60374415]),\n",
              " array([1362, 1267]))"
            ]
          },
          "metadata": {},
          "execution_count": 94
        }
      ],
      "source": [
        "precision_recall_fscore_support(g_test, y_pred)"
      ]
    },
    {
      "cell_type": "markdown",
      "metadata": {
        "id": "DG9NoUtOpiGv"
      },
      "source": [
        "You should obtain the following results:\n",
        "\n",
        "Overall Accuracy: 0.61\n",
        "\n",
        "| Group | Precision | Recall | f1 |\n",
        "| --- | --- | --- | --- |\n",
        "| Female | 0.60| 0.61 | 0.60 |\n",
        "| Male |  0.63| 0.62 | 0.62 |"
      ]
    },
    {
      "cell_type": "markdown",
      "metadata": {
        "id": "C5BfPCEhbvb8"
      },
      "source": [
        "Some possible reasons behind the fact that the features enable gender classification are:\n",
        " - There are some video, photo or voice features that enable gender recognition, or any other ensemble of features that do the same.\n",
        " - There are some specific proxy variables that are correlated with gender, as for instance  \"Maternity leave\" or \"Employment length\". We have seen from section 4 that this was not the case.\n"
      ]
    },
    {
      "cell_type": "markdown",
      "metadata": {
        "id": "u253OROG_dyz"
      },
      "source": [
        "### **5.2. (OPTIONAL) Predict Black/White ethnicity**"
      ]
    },
    {
      "cell_type": "markdown",
      "metadata": {
        "id": "PcA_RbypZ_6R"
      },
      "source": [
        "In the following code, we perform the same steps as for gender:\n",
        "- only keep *White* and *Black* candidates\n",
        "- encode the *Ethnicity* column into integers\n",
        "- split the data into train and test set. For this section you will need:\n",
        "  - X_train , X_test. are the train and test input features\n",
        "  - e_train, e_test. contain the encoded ethnicity (0 for Black; 1 for White)\n",
        "- initialize the model"
      ]
    },
    {
      "cell_type": "code",
      "execution_count": 112,
      "metadata": {
        "colab": {
          "base_uri": "https://localhost:8080/"
        },
        "id": "YozaeZP-Z_KY",
        "outputId": "d8e4fd86-b36f-4adb-ebbc-36b9a6558e13"
      },
      "outputs": [
        {
          "output_type": "stream",
          "name": "stdout",
          "text": [
            "Label for White is 1. Label for Black is 0\n"
          ]
        }
      ],
      "source": [
        "# copy raw data and drop nan values\n",
        "df = raw_data.copy()\n",
        "df = df.dropna()\n",
        "# remove non Black or non White for the purpose of this exercise\n",
        "df = data[(data['Ethnicity'] == 'White') | (data['Ethnicity'] == 'Black')].copy()\n",
        "# encode 'Ethnicity' column\n",
        "enc = LabelEncoder()\n",
        "df['Ethnicity'] = enc.fit_transform(df['Ethnicity'])\n",
        "print(\"Label for White is %d. Label for Black is %d\"%(enc.transform(['White'])[0],enc.transform(['Black'])[0]))\n",
        "# split data train/test (from data without nan)\n",
        "data_train, data_test = train_test_split(df,test_size = 0.3,random_state=41)\n",
        "# get X,y, gender, ethnicity\n",
        "X_train,_,dem_train = split_data_from_df(data_train)\n",
        "e_train = dem_train['Ethnicity']\n",
        "X_test,_,dem_test = split_data_from_df(data_test)\n",
        "e_test = dem_test['Ethnicity']\n",
        "# define model\n",
        "model = RidgeClassifier(random_state = 42)"
      ]
    },
    {
      "cell_type": "markdown",
      "metadata": {
        "id": "PZ1X4gWFdoEf"
      },
      "source": [
        "**Instructions.** As in the gender case:\n",
        "- **Fit the model on the train set**\n",
        "- **Compute the accuracy and confusion matrix on the test set.**  You can use *accuracy_score* (sklearn.metrics) and *plot_cm* (defined in 1)\n",
        "- **Check the precision, recall and f1 score for each class.** You can use *precision_recall_fscore_support* (sklearn.metrics).\n",
        "- **Count the number of *Black* and *White* candidates in the test dataset.**"
      ]
    },
    {
      "cell_type": "code",
      "execution_count": 113,
      "metadata": {
        "id": "ctk3rM0hEl5h",
        "colab": {
          "base_uri": "https://localhost:8080/"
        },
        "outputId": "605ac268-a86c-49e9-a9b8-a0af40bd6307"
      },
      "outputs": [
        {
          "output_type": "stream",
          "name": "stdout",
          "text": [
            "Overall accuracy =  0.6858156028368795\n"
          ]
        }
      ],
      "source": [
        "model.fit(X_train, e_train)\n",
        "y_pred = model.predict(X_test)\n",
        "print('Overall accuracy = ', accuracy_score(e_test, y_pred))"
      ]
    },
    {
      "cell_type": "code",
      "source": [
        "plot_cm(e_test, y_pred)"
      ],
      "metadata": {
        "colab": {
          "base_uri": "https://localhost:8080/",
          "height": 485
        },
        "id": "flc2H6n1kkQE",
        "outputId": "3436b7e8-5e14-4b97-e60c-6a999bfb7539"
      },
      "execution_count": 114,
      "outputs": [
        {
          "output_type": "execute_result",
          "data": {
            "text/plain": [
              "array([[849,  86],\n",
              "       [357, 118]])"
            ]
          },
          "metadata": {},
          "execution_count": 114
        },
        {
          "output_type": "display_data",
          "data": {
            "text/plain": [
              "<Figure size 640x480 with 2 Axes>"
            ],
            "image/png": "[encoded data removed]"
          },
          "metadata": {}
        }
      ]
    },
    {
      "cell_type": "code",
      "execution_count": 107,
      "metadata": {
        "id": "97y1SdG1El8C",
        "colab": {
          "base_uri": "https://localhost:8080/"
        },
        "outputId": "4fd194d3-c428-43c0-c3fb-454e98370707"
      },
      "outputs": [
        {
          "output_type": "execute_result",
          "data": {
            "text/plain": [
              "(array([0.57843137, 0.7039801 ]),\n",
              " array([0.24842105, 0.90802139]),\n",
              " array([0.34756996, 0.79308734]),\n",
              " array([475, 935]))"
            ]
          },
          "metadata": {},
          "execution_count": 107
        }
      ],
      "source": [
        "precision_recall_fscore_support(e_test, y_pred)"
      ]
    },
    {
      "cell_type": "code",
      "source": [
        "e_test.value_counts()"
      ],
      "metadata": {
        "colab": {
          "base_uri": "https://localhost:8080/"
        },
        "id": "ycfLPzGvjd-u",
        "outputId": "3dffc79a-d08f-4d40-d1e6-e13eac446422"
      },
      "execution_count": 105,
      "outputs": [
        {
          "output_type": "execute_result",
          "data": {
            "text/plain": [
              "1    935\n",
              "0    475\n",
              "Name: Ethnicity, dtype: int64"
            ]
          },
          "metadata": {},
          "execution_count": 105
        }
      ]
    },
    {
      "cell_type": "markdown",
      "metadata": {
        "id": "X_Hk8znJpiGx"
      },
      "source": [
        "You should obtain the following results:\n",
        "\n",
        "Overall Accuracy: 0.69\n",
        "\n",
        "\n",
        "| Group | Precision | Recall | f1 |\n",
        "| --- | --- | --- | --- |\n",
        "| Black | 0.70 | 0.91 | 0.79 |\n",
        "| White |  0.58| 0.25 | 0.35 |\n",
        "\n",
        "\n",
        "Test set counts: {*White*: 935, *Black*: 475}"
      ]
    },
    {
      "cell_type": "markdown",
      "metadata": {
        "id": "Ntk5ZGzppiGx"
      },
      "source": [
        "You should observe in the confusion matrix that there are significantly less prediction for Black than for White. This would even happen with a perfect model as there is less candidates categorized as *Black* than *White* in the dataset. In these cases, the precision and recall scores help to judge the quality of a model to predict for each class.\n",
        "\n",
        "Upon further inspection, it seems the model has learnt to predict almost every instance as White. So it is hard to get a sense as to whether Ethnicity can actually be inferred from the features.\n",
        "\n",
        "To tackle this, we can resample the data, i.e. randomly oversampling the minority class or undersampling the majority class so there is the same amount of each class. In theory, one should only resample the training data as the outcome for \"real-life\" test data is not available so we cannot resample it. However for the purpose of this class, we will resample the whole data."
      ]
    },
    {
      "cell_type": "markdown",
      "metadata": {
        "id": "_Mv-q_mLpiGx"
      },
      "source": [
        "### **5.3. (OPTIONAL) Predict *Black/White* ethnicity after rebalancing the data**"
      ]
    },
    {
      "cell_type": "markdown",
      "metadata": {
        "id": "HosgAqg7piGx"
      },
      "source": [
        "In the following code, we undersample the data and repeat the experiment."
      ]
    },
    {
      "cell_type": "code",
      "execution_count": 120,
      "metadata": {
        "colab": {
          "base_uri": "https://localhost:8080/"
        },
        "id": "vws8HD3CpiGx",
        "outputId": "c79abdf4-b9bd-42c9-fc43-5985411bbb69"
      },
      "outputs": [
        {
          "output_type": "stream",
          "name": "stdout",
          "text": [
            "Original dataset counts Counter({'White': 3179, 'Black': 1520})\n",
            "Resampled dataset counts Counter({'Black': 1520, 'White': 1520})\n"
          ]
        }
      ],
      "source": [
        "# copy raw data and drop nan values\n",
        "df = raw_data.copy()\n",
        "df = df.dropna()\n",
        "# get data\n",
        "df = data[(data['Ethnicity'] == 'White') | (data['Ethnicity'] == 'Black')].copy()\n",
        "X,_,dem = split_data_from_df(df)\n",
        "e = dem['Ethnicity'].values\n",
        "# resample\n",
        "print('Original dataset counts', Counter(e))\n",
        "res = RandomUnderSampler(random_state=42)\n",
        "X,e = res.fit_resample(X,e)\n",
        "print('Resampled dataset counts', Counter(e))\n",
        "# encode ethnicity\n",
        "enc = LabelEncoder()\n",
        "e = enc.fit_transform(e)\n",
        "# split data train/test (from data without nan)\n",
        "X_train, X_test, e_train, e_test = train_test_split(X,e,test_size = 0.3,random_state=41)"
      ]
    },
    {
      "cell_type": "markdown",
      "metadata": {
        "id": "3VlvKWv3piGx"
      },
      "source": [
        "**Instructions.** Once again:\n",
        "- **Fit the model on the train set**\n",
        "- **Compute the accuracy and confusion matrix on the test set.**  You can use *accuracy_score* (sklearn.metrics) and *plot_cm* (defined in 1)\n",
        "- **Check the precision, recall and f1 score for each class.** You can use *precision_recall_fscore_support* (sklearn.metrics)."
      ]
    },
    {
      "cell_type": "code",
      "execution_count": 121,
      "metadata": {
        "id": "4nY07fXXEyqs",
        "colab": {
          "base_uri": "https://localhost:8080/"
        },
        "outputId": "b332c304-74be-4881-c4c8-127f9b405cf1"
      },
      "outputs": [
        {
          "output_type": "stream",
          "name": "stdout",
          "text": [
            "Overall accuracy =  0.6271929824561403\n"
          ]
        }
      ],
      "source": [
        "model.fit(X_train, e_train)\n",
        "y_pred = model.predict(X_test)\n",
        "print('Overall accuracy = ', accuracy_score(e_test, y_pred))"
      ]
    },
    {
      "cell_type": "code",
      "source": [
        "plot_cm(e_test, y_pred)"
      ],
      "metadata": {
        "colab": {
          "base_uri": "https://localhost:8080/",
          "height": 485
        },
        "id": "33L9DV-jkoUL",
        "outputId": "96f65ede-6d30-4b78-b21f-53b90613f954"
      },
      "execution_count": 122,
      "outputs": [
        {
          "output_type": "execute_result",
          "data": {
            "text/plain": [
              "array([[277, 153],\n",
              "       [187, 295]])"
            ]
          },
          "metadata": {},
          "execution_count": 122
        },
        {
          "output_type": "display_data",
          "data": {
            "text/plain": [
              "<Figure size 640x480 with 2 Axes>"
            ],
            "image/png": "[encoded data removed]"
          },
          "metadata": {}
        }
      ]
    },
    {
      "cell_type": "code",
      "execution_count": 123,
      "metadata": {
        "id": "pZvtTCHlEywO",
        "colab": {
          "base_uri": "https://localhost:8080/"
        },
        "outputId": "d587a849-e886-41ec-aaaf-04e6ea429fd1"
      },
      "outputs": [
        {
          "output_type": "execute_result",
          "data": {
            "text/plain": [
              "(array([0.65848214, 0.59698276]),\n",
              " array([0.6120332 , 0.64418605]),\n",
              " array([0.6344086, 0.6196868]),\n",
              " array([482, 430]))"
            ]
          },
          "metadata": {},
          "execution_count": 123
        }
      ],
      "source": [
        "precision_recall_fscore_support(e_test, y_pred)"
      ]
    },
    {
      "cell_type": "code",
      "source": [
        "pd.DataFrame(e_test).value_counts()"
      ],
      "metadata": {
        "colab": {
          "base_uri": "https://localhost:8080/"
        },
        "id": "ZZ4BFk8Kkxj2",
        "outputId": "26948033-daa4-4665-bce5-56fd5fafd517"
      },
      "execution_count": 127,
      "outputs": [
        {
          "output_type": "execute_result",
          "data": {
            "text/plain": [
              "0    482\n",
              "1    430\n",
              "dtype: int64"
            ]
          },
          "metadata": {},
          "execution_count": 127
        }
      ]
    },
    {
      "cell_type": "markdown",
      "metadata": {
        "id": "Z4LdPSdQQ7xA"
      },
      "source": [
        "You should obtain the following results:\n",
        "\n",
        "Overall Accuracy: 0.63\n",
        "\n",
        "\n",
        "| Group | Precision | Recall | f1 |\n",
        "| --- | --- | --- | --- |\n",
        "| Black | 0.60 | 0.64 | 0.62 |\n",
        "| White |  0.66| 0.61 | 0.63 |\n",
        "\n",
        "\n",
        "Test set counts: {*White*: 430, *Black*: 482}"
      ]
    }
  ],
  "metadata": {
    "colab": {
      "provenance": [],
      "include_colab_link": true
    },
    "kernelspec": {
      "display_name": "Python 3.9.12 ('torch-nightly')",
      "language": "python",
      "name": "python3"
    },
    "language_info": {
      "codemirror_mode": {
        "name": "ipython",
        "version": 3
      },
      "file_extension": ".py",
      "mimetype": "text/x-python",
      "name": "python",
      "nbconvert_exporter": "python",
      "pygments_lexer": "ipython3",
      "version": "3.9.12"
    },
    "vscode": {
      "interpreter": {
        "hash": "f5fa74478a026ac530ef194e4df855dfb9675779484e20284ae5f690a2266d7b"
      }
    }
  },
  "nbformat": 4,
  "nbformat_minor": 0
}