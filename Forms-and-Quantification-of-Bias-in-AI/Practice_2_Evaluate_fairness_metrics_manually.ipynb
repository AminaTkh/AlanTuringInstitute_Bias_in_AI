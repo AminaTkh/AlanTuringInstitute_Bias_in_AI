{
  "cells": [
    {
      "cell_type": "markdown",
      "metadata": {
        "id": "view-in-github",
        "colab_type": "text"
      },
      "source": [
        "<a href=\"https://colab.research.google.com/github/AminaTkh/AlanTuringInstitute_Bias_in_AI/blob/main/Forms-and-Quantification-of-Bias-in-AI/Practice_2_Evaluate_fairness_metrics_manually.ipynb\" target=\"_parent\"><img src=\"https://colab.research.google.com/assets/colab-badge.svg\" alt=\"Open In Colab\"/></a>"
      ]
    },
    {
      "cell_type": "markdown",
      "metadata": {
        "id": "RMuRYKtj4SHR"
      },
      "source": [
        "# **Milestone 3: Sources, Forms, and Quantification of Bias and Discrimination in Supervised Learning**\n",
        "## **PRACTICE NOTEBOOK 2 - Evaluate model bias \"manually\"**\n"
      ]
    },
    {
      "cell_type": "markdown",
      "metadata": {
        "id": "0v83HDaM4g99"
      },
      "source": [
        "In this part of the course, we will look for bias using a practical example. A  company is looking to hire a new employee. They use a machine learning algorithm to select the top candidates. The candidates are assigned either 0 if they're not selected or 1 if they are.\n",
        "\n",
        "There are 4 practice notebooks in total (current one in red):\n",
        "1. Explore given data to: detect potential bias early & check for proxies\n",
        "2. <font color='red'> **Evaluate model bias \"manually\"**</font>\n",
        "3. Evaluate model bias using **holisticai** library\n",
        "4. Example code to get confidence intervals for a metric (nothing to do)\n",
        "\n",
        "Instructions to complete in each parts are in bold. Intermediate results are given so one can continue the exercise.\n",
        "\n",
        "This is notebook number 2.\n",
        "\n",
        "Up to this point, we haven't used any model yet and simply analysed the dataset used for training. We haven't used any fairness metrics either, but we can already see a few points that are warning signs. The first one is that the average success rate within the training data differs for various ethnicities (Asian : 0.32, Black : 0.35, Hispanic : 0.38 , White : 0.39). If there was no proxies at all for ethnicity in the data, it would be fine to train with this data as ethnicity would have zero influence on the result. Unfortunately, we have seen that it is not the case. We can therefore expect there might be some bias on a model trained on this data.\n",
        "\n",
        "Note that in a more thorough experiment, we would test fairness using cross-validation or bootsampling methods (see section 10.2 from this book), giving us more trustworthy average figures for each metric (for accuracy and fairness). In this course, we do the analysis on one single random split of the data, hence yielding only one figure. Example code to obtain a confidence interval is provided in practice notebook 4.\n",
        "\n",
        "We evaluate two types of metrics:\n",
        "\n",
        "- Equality of outcome metrics: These measure the distribution of positive outcomes with respect to the protected characteristic. We focus on this when we would like our model to predict an equal proportion of positive outcomes for the protected group compared with the rest of the population. We will estimate the two following metrics: Statistical Parity and Disparate Impact.\n",
        "\n",
        "- Equalized Odds and Equality of Opportunity metrics. These measure the distribution of model errors with respect to the protected characteristic. These are useful when Statistical Parity is not an appropriate goal, for example where there are legitimate reasons for a protected group to have a different rate of positive outcome to the rest of the population, but where we would like to make sure the model makes the same volume and types of errors for both groups. We will estimate the following metric: Equal Opportunity Difference.\n",
        "\n",
        "In this notebook we will:\n",
        "- Split data into train/test sets, define and train a model, get overall accuracy\n",
        "- Calculate the Equality of Outcome metrics *Statistical Parity* and *Disparate Impact* on the original test set\n",
        "- Calculate *Statistical Parity* and *Disparate Impact* on a rebalanced test set\n",
        "- Calculate the *Equal Opportunity Difference*"
      ]
    },
    {
      "cell_type": "markdown",
      "metadata": {
        "id": "-nYt5_h77QGN"
      },
      "source": [
        "## **0 - Import modules, load data and useful functions**"
      ]
    },
    {
      "cell_type": "code",
      "execution_count": 143,
      "metadata": {
        "id": "KgfZWXdy1REj"
      },
      "outputs": [],
      "source": [
        "#imports\n",
        "import pickle\n",
        "import numpy as np\n",
        "import pandas as pd\n",
        "import matplotlib.pyplot as plt\n",
        "import seaborn as sns\n",
        "from sklearn.preprocessing import LabelEncoder\n",
        "from sklearn.model_selection import train_test_split\n",
        "from sklearn.linear_model import RidgeClassifier\n",
        "from sklearn.metrics import accuracy_score, recall_score, precision_score, precision_recall_fscore_support\n",
        "from sklearn.metrics import confusion_matrix\n",
        "from imblearn import under_sampling, over_sampling\n",
        "import imblearn"
      ]
    },
    {
      "cell_type": "code",
      "execution_count": 144,
      "metadata": {
        "colab": {
          "base_uri": "https://localhost:8080/",
          "height": 523
        },
        "id": "ClEzlOOOpr0B",
        "outputId": "15314f71-c6f7-4223-d10f-2a1ffa1d5ba6"
      },
      "outputs": [
        {
          "output_type": "stream",
          "name": "stderr",
          "text": [
            "/usr/local/lib/python3.10/dist-packages/sklearn/datasets/_openml.py:968: FutureWarning: The default value of `parser` will change from `'liac-arff'` to `'auto'` in 1.4. You can set `parser='auto'` to silence this warning. Therefore, an `ImportError` will be raised from 1.4 if the dataset is dense and pandas is not installed. Note that the pandas parser may return different data types. See the Notes Section in fetch_openml's API doc for details.\n",
            "  warn(\n"
          ]
        },
        {
          "output_type": "execute_result",
          "data": {
            "text/plain": [
              "      Label  Gender Ethnicity         0         1         2         3  \\\n",
              "0         1  Female     Black -0.178832  0.147077  0.775331 -0.427889   \n",
              "1         1    Male  Hispanic  0.092276  0.122023  0.482935 -0.232131   \n",
              "2         0  Female  Hispanic -1.703377 -0.962149 -0.785495 -0.633902   \n",
              "3         0    None      None -1.229715 -1.342997 -0.093382  0.136900   \n",
              "4         1    Male  Hispanic -0.363013  1.264307  1.667603  0.903941   \n",
              "...     ...     ...       ...       ...       ...       ...       ...   \n",
              "9995      1  Female  Hispanic -0.057075  1.791513 -1.065756 -0.783341   \n",
              "9996      1    Male     Black  0.582066  0.086788  0.167259 -1.672798   \n",
              "9997      0    Male     White -1.355098 -0.321228 -0.204290  0.498632   \n",
              "9998      1    Male     White -0.526557  2.174463 -0.979082 -0.681536   \n",
              "9999      0    None      None  0.878986  0.750031  1.014081 -0.324345   \n",
              "\n",
              "             4         5         6  ...        40        41        42  \\\n",
              "0     0.640818 -0.610427 -1.023371  ...  0.513206 -0.042387 -0.355889   \n",
              "1    -1.939064 -1.140216 -0.833250  ... -1.203151  0.750136 -1.417751   \n",
              "2    -0.334718 -1.555958  0.825006  ...  0.249654  0.368800  0.079523   \n",
              "3     1.195076 -0.582687  0.052355  ...  0.667730  0.595494  0.454502   \n",
              "4    -0.062840  0.680886  0.389930  ... -0.494161  0.784050 -0.311236   \n",
              "...        ...       ...       ...  ...       ...       ...       ...   \n",
              "9995 -0.559215  1.042646 -1.154058  ... -0.335082  0.709753  0.021583   \n",
              "9996  1.537135 -1.113315  0.222907  ... -0.562594  0.150314 -0.072920   \n",
              "9997  1.634130  0.847070 -0.552140  ... -1.204719  0.688433 -1.781911   \n",
              "9998 -0.145515  1.703135  0.947010  ... -0.487367  2.043764 -1.570147   \n",
              "9999  0.778664 -0.469189  0.750975  ...  1.118061 -0.708493  0.323589   \n",
              "\n",
              "            43        44        45        46        47        48        49  \n",
              "0    -0.465837 -2.832634  0.917297 -0.241052 -2.122105  0.253170  0.164617  \n",
              "1     1.254152  0.631731  1.665469 -0.388293 -0.804782 -0.227182  0.412375  \n",
              "2    -0.932425 -0.693293 -0.114197 -1.252067  0.834270 -0.463270  0.559294  \n",
              "3    -0.366884 -0.399758  1.113102  0.126707  0.474569 -0.158103  1.197710  \n",
              "4     2.447118  1.127650  0.086733 -0.381553  0.209684  0.197809 -0.879914  \n",
              "...        ...       ...       ...       ...       ...       ...       ...  \n",
              "9995  1.718576  1.171804  0.430075  3.340726  1.349216  1.481516  0.070563  \n",
              "9996 -1.841719 -0.807065 -0.793955 -1.098300 -1.474154 -0.828826 -0.891166  \n",
              "9997  0.275032  0.690859  0.666878  0.644440  0.127891  1.277781 -0.744428  \n",
              "9998  0.861712 -0.939181  0.090775 -1.153183 -1.362903 -1.424866 -0.374579  \n",
              "9999 -1.607874 -0.218238  0.104560 -1.013426  0.563411 -0.399798 -0.021546  \n",
              "\n",
              "[10000 rows x 53 columns]"
            ],
            "text/html": [
              "\n",
              "  <div id=\"df-11096a79-fc2d-4672-a4f3-84b3369e95e4\">\n",
              "    <div class=\"colab-df-container\">\n",
              "      <div>\n",
              "<style scoped>\n",
              "    .dataframe tbody tr th:only-of-type {\n",
              "        vertical-align: middle;\n",
              "    }\n",
              "\n",
              "    .dataframe tbody tr th {\n",
              "        vertical-align: top;\n",
              "    }\n",
              "\n",
              "    .dataframe thead th {\n",
              "        text-align: right;\n",
              "    }\n",
              "</style>\n",
              "<table border=\"1\" class=\"dataframe\">\n",
              "  <thead>\n",
              "    <tr style=\"text-align: right;\">\n",
              "      <th></th>\n",
              "      <th>Label</th>\n",
              "      <th>Gender</th>\n",
              "      <th>Ethnicity</th>\n",
              "      <th>0</th>\n",
              "      <th>1</th>\n",
              "      <th>2</th>\n",
              "      <th>3</th>\n",
              "      <th>4</th>\n",
              "      <th>5</th>\n",
              "      <th>6</th>\n",
              "      <th>...</th>\n",
              "      <th>40</th>\n",
              "      <th>41</th>\n",
              "      <th>42</th>\n",
              "      <th>43</th>\n",
              "      <th>44</th>\n",
              "      <th>45</th>\n",
              "      <th>46</th>\n",
              "      <th>47</th>\n",
              "      <th>48</th>\n",
              "      <th>49</th>\n",
              "    </tr>\n",
              "  </thead>\n",
              "  <tbody>\n",
              "    <tr>\n",
              "      <th>0</th>\n",
              "      <td>1</td>\n",
              "      <td>Female</td>\n",
              "      <td>Black</td>\n",
              "      <td>-0.178832</td>\n",
              "      <td>0.147077</td>\n",
              "      <td>0.775331</td>\n",
              "      <td>-0.427889</td>\n",
              "      <td>0.640818</td>\n",
              "      <td>-0.610427</td>\n",
              "      <td>-1.023371</td>\n",
              "      <td>...</td>\n",
              "      <td>0.513206</td>\n",
              "      <td>-0.042387</td>\n",
              "      <td>-0.355889</td>\n",
              "      <td>-0.465837</td>\n",
              "      <td>-2.832634</td>\n",
              "      <td>0.917297</td>\n",
              "      <td>-0.241052</td>\n",
              "      <td>-2.122105</td>\n",
              "      <td>0.253170</td>\n",
              "      <td>0.164617</td>\n",
              "    </tr>\n",
              "    <tr>\n",
              "      <th>1</th>\n",
              "      <td>1</td>\n",
              "      <td>Male</td>\n",
              "      <td>Hispanic</td>\n",
              "      <td>0.092276</td>\n",
              "      <td>0.122023</td>\n",
              "      <td>0.482935</td>\n",
              "      <td>-0.232131</td>\n",
              "      <td>-1.939064</td>\n",
              "      <td>-1.140216</td>\n",
              "      <td>-0.833250</td>\n",
              "      <td>...</td>\n",
              "      <td>-1.203151</td>\n",
              "      <td>0.750136</td>\n",
              "      <td>-1.417751</td>\n",
              "      <td>1.254152</td>\n",
              "      <td>0.631731</td>\n",
              "      <td>1.665469</td>\n",
              "      <td>-0.388293</td>\n",
              "      <td>-0.804782</td>\n",
              "      <td>-0.227182</td>\n",
              "      <td>0.412375</td>\n",
              "    </tr>\n",
              "    <tr>\n",
              "      <th>2</th>\n",
              "      <td>0</td>\n",
              "      <td>Female</td>\n",
              "      <td>Hispanic</td>\n",
              "      <td>-1.703377</td>\n",
              "      <td>-0.962149</td>\n",
              "      <td>-0.785495</td>\n",
              "      <td>-0.633902</td>\n",
              "      <td>-0.334718</td>\n",
              "      <td>-1.555958</td>\n",
              "      <td>0.825006</td>\n",
              "      <td>...</td>\n",
              "      <td>0.249654</td>\n",
              "      <td>0.368800</td>\n",
              "      <td>0.079523</td>\n",
              "      <td>-0.932425</td>\n",
              "      <td>-0.693293</td>\n",
              "      <td>-0.114197</td>\n",
              "      <td>-1.252067</td>\n",
              "      <td>0.834270</td>\n",
              "      <td>-0.463270</td>\n",
              "      <td>0.559294</td>\n",
              "    </tr>\n",
              "    <tr>\n",
              "      <th>3</th>\n",
              "      <td>0</td>\n",
              "      <td>None</td>\n",
              "      <td>None</td>\n",
              "      <td>-1.229715</td>\n",
              "      <td>-1.342997</td>\n",
              "      <td>-0.093382</td>\n",
              "      <td>0.136900</td>\n",
              "      <td>1.195076</td>\n",
              "      <td>-0.582687</td>\n",
              "      <td>0.052355</td>\n",
              "      <td>...</td>\n",
              "      <td>0.667730</td>\n",
              "      <td>0.595494</td>\n",
              "      <td>0.454502</td>\n",
              "      <td>-0.366884</td>\n",
              "      <td>-0.399758</td>\n",
              "      <td>1.113102</td>\n",
              "      <td>0.126707</td>\n",
              "      <td>0.474569</td>\n",
              "      <td>-0.158103</td>\n",
              "      <td>1.197710</td>\n",
              "    </tr>\n",
              "    <tr>\n",
              "      <th>4</th>\n",
              "      <td>1</td>\n",
              "      <td>Male</td>\n",
              "      <td>Hispanic</td>\n",
              "      <td>-0.363013</td>\n",
              "      <td>1.264307</td>\n",
              "      <td>1.667603</td>\n",
              "      <td>0.903941</td>\n",
              "      <td>-0.062840</td>\n",
              "      <td>0.680886</td>\n",
              "      <td>0.389930</td>\n",
              "      <td>...</td>\n",
              "      <td>-0.494161</td>\n",
              "      <td>0.784050</td>\n",
              "      <td>-0.311236</td>\n",
              "      <td>2.447118</td>\n",
              "      <td>1.127650</td>\n",
              "      <td>0.086733</td>\n",
              "      <td>-0.381553</td>\n",
              "      <td>0.209684</td>\n",
              "      <td>0.197809</td>\n",
              "      <td>-0.879914</td>\n",
              "    </tr>\n",
              "    <tr>\n",
              "      <th>...</th>\n",
              "      <td>...</td>\n",
              "      <td>...</td>\n",
              "      <td>...</td>\n",
              "      <td>...</td>\n",
              "      <td>...</td>\n",
              "      <td>...</td>\n",
              "      <td>...</td>\n",
              "      <td>...</td>\n",
              "      <td>...</td>\n",
              "      <td>...</td>\n",
              "      <td>...</td>\n",
              "      <td>...</td>\n",
              "      <td>...</td>\n",
              "      <td>...</td>\n",
              "      <td>...</td>\n",
              "      <td>...</td>\n",
              "      <td>...</td>\n",
              "      <td>...</td>\n",
              "      <td>...</td>\n",
              "      <td>...</td>\n",
              "      <td>...</td>\n",
              "    </tr>\n",
              "    <tr>\n",
              "      <th>9995</th>\n",
              "      <td>1</td>\n",
              "      <td>Female</td>\n",
              "      <td>Hispanic</td>\n",
              "      <td>-0.057075</td>\n",
              "      <td>1.791513</td>\n",
              "      <td>-1.065756</td>\n",
              "      <td>-0.783341</td>\n",
              "      <td>-0.559215</td>\n",
              "      <td>1.042646</td>\n",
              "      <td>-1.154058</td>\n",
              "      <td>...</td>\n",
              "      <td>-0.335082</td>\n",
              "      <td>0.709753</td>\n",
              "      <td>0.021583</td>\n",
              "      <td>1.718576</td>\n",
              "      <td>1.171804</td>\n",
              "      <td>0.430075</td>\n",
              "      <td>3.340726</td>\n",
              "      <td>1.349216</td>\n",
              "      <td>1.481516</td>\n",
              "      <td>0.070563</td>\n",
              "    </tr>\n",
              "    <tr>\n",
              "      <th>9996</th>\n",
              "      <td>1</td>\n",
              "      <td>Male</td>\n",
              "      <td>Black</td>\n",
              "      <td>0.582066</td>\n",
              "      <td>0.086788</td>\n",
              "      <td>0.167259</td>\n",
              "      <td>-1.672798</td>\n",
              "      <td>1.537135</td>\n",
              "      <td>-1.113315</td>\n",
              "      <td>0.222907</td>\n",
              "      <td>...</td>\n",
              "      <td>-0.562594</td>\n",
              "      <td>0.150314</td>\n",
              "      <td>-0.072920</td>\n",
              "      <td>-1.841719</td>\n",
              "      <td>-0.807065</td>\n",
              "      <td>-0.793955</td>\n",
              "      <td>-1.098300</td>\n",
              "      <td>-1.474154</td>\n",
              "      <td>-0.828826</td>\n",
              "      <td>-0.891166</td>\n",
              "    </tr>\n",
              "    <tr>\n",
              "      <th>9997</th>\n",
              "      <td>0</td>\n",
              "      <td>Male</td>\n",
              "      <td>White</td>\n",
              "      <td>-1.355098</td>\n",
              "      <td>-0.321228</td>\n",
              "      <td>-0.204290</td>\n",
              "      <td>0.498632</td>\n",
              "      <td>1.634130</td>\n",
              "      <td>0.847070</td>\n",
              "      <td>-0.552140</td>\n",
              "      <td>...</td>\n",
              "      <td>-1.204719</td>\n",
              "      <td>0.688433</td>\n",
              "      <td>-1.781911</td>\n",
              "      <td>0.275032</td>\n",
              "      <td>0.690859</td>\n",
              "      <td>0.666878</td>\n",
              "      <td>0.644440</td>\n",
              "      <td>0.127891</td>\n",
              "      <td>1.277781</td>\n",
              "      <td>-0.744428</td>\n",
              "    </tr>\n",
              "    <tr>\n",
              "      <th>9998</th>\n",
              "      <td>1</td>\n",
              "      <td>Male</td>\n",
              "      <td>White</td>\n",
              "      <td>-0.526557</td>\n",
              "      <td>2.174463</td>\n",
              "      <td>-0.979082</td>\n",
              "      <td>-0.681536</td>\n",
              "      <td>-0.145515</td>\n",
              "      <td>1.703135</td>\n",
              "      <td>0.947010</td>\n",
              "      <td>...</td>\n",
              "      <td>-0.487367</td>\n",
              "      <td>2.043764</td>\n",
              "      <td>-1.570147</td>\n",
              "      <td>0.861712</td>\n",
              "      <td>-0.939181</td>\n",
              "      <td>0.090775</td>\n",
              "      <td>-1.153183</td>\n",
              "      <td>-1.362903</td>\n",
              "      <td>-1.424866</td>\n",
              "      <td>-0.374579</td>\n",
              "    </tr>\n",
              "    <tr>\n",
              "      <th>9999</th>\n",
              "      <td>0</td>\n",
              "      <td>None</td>\n",
              "      <td>None</td>\n",
              "      <td>0.878986</td>\n",
              "      <td>0.750031</td>\n",
              "      <td>1.014081</td>\n",
              "      <td>-0.324345</td>\n",
              "      <td>0.778664</td>\n",
              "      <td>-0.469189</td>\n",
              "      <td>0.750975</td>\n",
              "      <td>...</td>\n",
              "      <td>1.118061</td>\n",
              "      <td>-0.708493</td>\n",
              "      <td>0.323589</td>\n",
              "      <td>-1.607874</td>\n",
              "      <td>-0.218238</td>\n",
              "      <td>0.104560</td>\n",
              "      <td>-1.013426</td>\n",
              "      <td>0.563411</td>\n",
              "      <td>-0.399798</td>\n",
              "      <td>-0.021546</td>\n",
              "    </tr>\n",
              "  </tbody>\n",
              "</table>\n",
              "<p>10000 rows × 53 columns</p>\n",
              "</div>\n",
              "      <button class=\"colab-df-convert\" onclick=\"convertToInteractive('df-11096a79-fc2d-4672-a4f3-84b3369e95e4')\"\n",
              "              title=\"Convert this dataframe to an interactive table.\"\n",
              "              style=\"display:none;\">\n",
              "        \n",
              "  <svg xmlns=\"http://www.w3.org/2000/svg\" height=\"24px\"viewBox=\"0 0 24 24\"\n",
              "       width=\"24px\">\n",
              "    <path d=\"M0 0h24v24H0V0z\" fill=\"none\"/>\n",
              "    <path d=\"M18.56 5.44l.94 2.06.94-2.06 2.06-.94-2.06-.94-.94-2.06-.94 2.06-2.06.94zm-11 1L8.5 8.5l.94-2.06 2.06-.94-2.06-.94L8.5 2.5l-.94 2.06-2.06.94zm10 10l.94 2.06.94-2.06 2.06-.94-2.06-.94-.94-2.06-.94 2.06-2.06.94z\"/><path d=\"M17.41 7.96l-1.37-1.37c-.4-.4-.92-.59-1.43-.59-.52 0-1.04.2-1.43.59L10.3 9.45l-7.72 7.72c-.78.78-.78 2.05 0 2.83L4 21.41c.39.39.9.59 1.41.59.51 0 1.02-.2 1.41-.59l7.78-7.78 2.81-2.81c.8-.78.8-2.07 0-2.86zM5.41 20L4 18.59l7.72-7.72 1.47 1.35L5.41 20z\"/>\n",
              "  </svg>\n",
              "      </button>\n",
              "      \n",
              "  <style>\n",
              "    .colab-df-container {\n",
              "      display:flex;\n",
              "      flex-wrap:wrap;\n",
              "      gap: 12px;\n",
              "    }\n",
              "\n",
              "    .colab-df-convert {\n",
              "      background-color: #E8F0FE;\n",
              "      border: none;\n",
              "      border-radius: 50%;\n",
              "      cursor: pointer;\n",
              "      display: none;\n",
              "      fill: #1967D2;\n",
              "      height: 32px;\n",
              "      padding: 0 0 0 0;\n",
              "      width: 32px;\n",
              "    }\n",
              "\n",
              "    .colab-df-convert:hover {\n",
              "      background-color: #E2EBFA;\n",
              "      box-shadow: 0px 1px 2px rgba(60, 64, 67, 0.3), 0px 1px 3px 1px rgba(60, 64, 67, 0.15);\n",
              "      fill: #174EA6;\n",
              "    }\n",
              "\n",
              "    [theme=dark] .colab-df-convert {\n",
              "      background-color: #3B4455;\n",
              "      fill: #D2E3FC;\n",
              "    }\n",
              "\n",
              "    [theme=dark] .colab-df-convert:hover {\n",
              "      background-color: #434B5C;\n",
              "      box-shadow: 0px 1px 3px 1px rgba(0, 0, 0, 0.15);\n",
              "      filter: drop-shadow(0px 1px 2px rgba(0, 0, 0, 0.3));\n",
              "      fill: #FFFFFF;\n",
              "    }\n",
              "  </style>\n",
              "\n",
              "      <script>\n",
              "        const buttonEl =\n",
              "          document.querySelector('#df-11096a79-fc2d-4672-a4f3-84b3369e95e4 button.colab-df-convert');\n",
              "        buttonEl.style.display =\n",
              "          google.colab.kernel.accessAllowed ? 'block' : 'none';\n",
              "\n",
              "        async function convertToInteractive(key) {\n",
              "          const element = document.querySelector('#df-11096a79-fc2d-4672-a4f3-84b3369e95e4');\n",
              "          const dataTable =\n",
              "            await google.colab.kernel.invokeFunction('convertToInteractive',\n",
              "                                                     [key], {});\n",
              "          if (!dataTable) return;\n",
              "\n",
              "          const docLinkHtml = 'Like what you see? Visit the ' +\n",
              "            '<a target=\"_blank\" href=https://colab.research.google.com/notebooks/data_table.ipynb>data table notebook</a>'\n",
              "            + ' to learn more about interactive tables.';\n",
              "          element.innerHTML = '';\n",
              "          dataTable['output_type'] = 'display_data';\n",
              "          await google.colab.output.renderOutput(dataTable, element);\n",
              "          const docLink = document.createElement('div');\n",
              "          docLink.innerHTML = docLinkHtml;\n",
              "          element.appendChild(docLink);\n",
              "        }\n",
              "      </script>\n",
              "    </div>\n",
              "  </div>\n",
              "  "
            ]
          },
          "metadata": {},
          "execution_count": 144
        }
      ],
      "source": [
        "# Load data\n",
        "from sklearn.datasets import fetch_openml\n",
        "bunch = fetch_openml(data_id=44270)\n",
        "raw_data = bunch['frame']\n",
        "raw_data"
      ]
    },
    {
      "cell_type": "code",
      "execution_count": 145,
      "metadata": {
        "id": "fo4na9kCw6bN"
      },
      "outputs": [],
      "source": [
        "# remove all nans --> we will use the variable data (without nans) for the remaining of this notebook\n",
        "data = raw_data.dropna()"
      ]
    },
    {
      "cell_type": "code",
      "execution_count": 146,
      "metadata": {
        "id": "PLwniYoCY6_y"
      },
      "outputs": [],
      "source": [
        "def plot_cm(y_true,y_pred,labels = [1,0],display_labels = [1,0], ax = None):\n",
        "  cm = confusion_matrix(y_true,y_pred,labels = labels)\n",
        "  if ax is None:\n",
        "    fig, ax = plt.subplots()\n",
        "  else:\n",
        "    fig = ax.figure\n",
        "  sns.heatmap(cm, annot=True, ax = ax, cmap='viridis',fmt='g')\n",
        "\n",
        "  ax.set(xticklabels=display_labels,\n",
        "          yticklabels=display_labels,\n",
        "          ylabel=\"True label\",\n",
        "          xlabel=\"Predicted label\")\n",
        "  return cm\n",
        "def split_data_from_df(data):\n",
        "  y = data['Label'].values\n",
        "  # g = data['Gender'].values\n",
        "  # e = data['Ethnicity'].values\n",
        "  X = data[np.arange(50).astype(str)].values\n",
        "  filter_col = ['Ethnicity','Gender'] + [col for col in data if str(col).startswith('Ethnicity_')] + [col for col in data if str(col).startswith('Gender_')]\n",
        "  dem = data[filter_col].copy()\n",
        "  return X,y,dem\n",
        "def encode(df):\n",
        "  g_enc = LabelEncoder()\n",
        "  e_enc = LabelEncoder()\n",
        "  df['Gender'] = g_enc.fit_transform(df['Gender'])\n",
        "  df['Ethnicity'] = e_enc.fit_transform(df['Ethnicity'])\n",
        "  return df, g_enc,e_enc\n",
        "def resample_equal(df,cat):\n",
        "  df['uid'] = df[cat] + df['Label'].astype(str)\n",
        "  enc = LabelEncoder()\n",
        "  df['uid'] = enc.fit_transform(df['uid'])\n",
        "  # Resample\n",
        "  uid = df['uid'].values\n",
        "  res = imblearn.over_sampling.RandomOverSampler(random_state=6)\n",
        "  df_res,euid = res.fit_resample(df,uid)\n",
        "  df_res = pd.DataFrame(df_res,columns = df.columns)\n",
        "  df_res = df_res.sample(frac=1).reset_index(drop=True)\n",
        "  df_res['Label'] = df_res['Label'].astype(float)\n",
        "  return df_res"
      ]
    },
    {
      "cell_type": "markdown",
      "metadata": {
        "id": "I9aOH89iRI7q"
      },
      "source": [
        "## **1- Train the model & evaluate overall accuracy**"
      ]
    },
    {
      "cell_type": "markdown",
      "metadata": {
        "id": "her5sk9weY3N"
      },
      "source": [
        "In the following code, we split the data into a train and test set, then train the model and evaluate overall accuracy."
      ]
    },
    {
      "cell_type": "code",
      "execution_count": 147,
      "metadata": {
        "colab": {
          "base_uri": "https://localhost:8080/"
        },
        "id": "Lng_LHndeW_J",
        "outputId": "824ae731-ce69-4d90-80a2-b7b241e42fc9"
      },
      "outputs": [
        {
          "output_type": "stream",
          "name": "stdout",
          "text": [
            "Accuracy is 0.69\n"
          ]
        }
      ],
      "source": [
        "# split into train/test\n",
        "data_train, data_test = train_test_split(data,test_size = 0.3,random_state=4)\n",
        "# get X,y,demographics for each\n",
        "X_train,y_train,dem_train = split_data_from_df(data_train)\n",
        "X_test,y_test,dem_test = split_data_from_df(data_test)\n",
        "# define model and train\n",
        "model = RidgeClassifier(random_state=42)\n",
        "model.fit(X_train,y_train)\n",
        "# evaluate on test\n",
        "y_pred_test = model.predict(X_test)\n",
        "acc = accuracy_score(y_test,y_pred_test)\n",
        "print(\"Accuracy is %.2f\"%acc)\n",
        "# add predictions to data_test for simplicity of analysis\n",
        "data_test = data_test.copy()\n",
        "data_test['Pred'] = y_pred_test"
      ]
    },
    {
      "cell_type": "markdown",
      "metadata": {
        "id": "7DHGwPQCba_0"
      },
      "source": [
        "We have an overall accuracy of 0.69, let's now calculate some of the fairness metrics described in part I. We will use:\n",
        "\n",
        "- Statistical Parity and Disparate Impact\n",
        "- Equal Odds and Equal Opportunity"
      ]
    },
    {
      "cell_type": "markdown",
      "metadata": {
        "id": "WaPD1_dhqLiy"
      },
      "source": [
        "## **2. Calculate Statistical Parity and Disparate Impact on original test set**"
      ]
    },
    {
      "cell_type": "markdown",
      "metadata": {
        "id": "VMuix7ulqe5c"
      },
      "source": [
        "**Questions** :\n",
        "- **Calculate the success rate for Male, Female and White, Black, Asian, Hispanic.** Note that this is the same as the mean y value for these subsets as outcomes are either 0 or 1.\n",
        "\n",
        "- **Calculate the Statistical Parity and Disparate Impact for:**\n",
        "  - **Female vs Male**\n",
        "  - **Black vs White**\n",
        "  - **Asian vs White**\n",
        "  - **Hispanic vs White**\n",
        "\n",
        "As a reminder, here are the definition:\n",
        "  - Statistical Parity. Difference between the success rate of the minority group with the majority group. A value below zero indicates a bias.\n",
        "  - Disparate Impact. Ratio of the success rate of the minority group over the majority group. A value below 1 indicates a bias. Fairness is often considered achieved for values between 0.8 and 1.2.\n",
        "\n"
      ]
    },
    {
      "cell_type": "code",
      "execution_count": 148,
      "metadata": {
        "id": "5QAEwwiAKO3y"
      },
      "outputs": [],
      "source": [
        "sr_gender = data.groupby(by = ['Gender'])['Label'].mean().to_frame(name = 'Success Rate')\n",
        "sr_ethnicity = data.groupby(by = ['Ethnicity'])['Label'].mean().to_frame(name = 'Success Rate')\n"
      ]
    },
    {
      "cell_type": "code",
      "execution_count": 149,
      "metadata": {
        "id": "TaMnjWE7KO81"
      },
      "outputs": [],
      "source": [
        "outcome_metrics = pd.DataFrame(columns = ['Tested','Statistical Parity','Disparate Impact'])\n",
        "outcome_metrics.set_index('Tested')\n",
        "outcome_metrics.loc[len(outcome_metrics)] = ['Female vs Male', (sr_gender.loc['Male'] - sr_gender.loc['Female'])[0], (sr_gender.loc['Female']/sr_gender.loc['Male'])[0]]\n",
        "outcome_metrics.loc[len(outcome_metrics)] = ['Black vs White', (sr_ethnicity.loc['White'] - sr_ethnicity.loc['Black'])[0], (sr_ethnicity.loc['Black']/sr_ethnicity.loc['White'])[0]]\n",
        "outcome_metrics.loc[len(outcome_metrics)] = ['Asian vs White', (sr_ethnicity.loc['White'] - sr_ethnicity.loc['Asian'])[0], (sr_ethnicity.loc['Asian']/sr_ethnicity.loc['White'])[0]]\n",
        "outcome_metrics.loc[len(outcome_metrics)] = ['Hispanic vs White', (sr_ethnicity.loc['White'] - sr_ethnicity.loc['Hispanic'])[0], (sr_ethnicity.loc['Hispanic']/sr_ethnicity.loc['White'])[0]]\n"
      ]
    },
    {
      "cell_type": "code",
      "source": [
        "outcome_metrics"
      ],
      "metadata": {
        "colab": {
          "base_uri": "https://localhost:8080/",
          "height": 175
        },
        "id": "K0BW_f5q9NAy",
        "outputId": "c243c290-61bb-46ee-d53a-e8d00c785394"
      },
      "execution_count": 150,
      "outputs": [
        {
          "output_type": "execute_result",
          "data": {
            "text/plain": [
              "              Tested  Statistical Parity  Disparate Impact\n",
              "0     Female vs Male           -0.005561          1.014853\n",
              "1     Black vs White            0.044949          0.887131\n",
              "2     Asian vs White            0.072815          0.817158\n",
              "3  Hispanic vs White            0.010448          0.973765"
            ],
            "text/html": [
              "\n",
              "  <div id=\"df-4931d0b0-1fc6-4ff6-a688-58ed3b9434fc\">\n",
              "    <div class=\"colab-df-container\">\n",
              "      <div>\n",
              "<style scoped>\n",
              "    .dataframe tbody tr th:only-of-type {\n",
              "        vertical-align: middle;\n",
              "    }\n",
              "\n",
              "    .dataframe tbody tr th {\n",
              "        vertical-align: top;\n",
              "    }\n",
              "\n",
              "    .dataframe thead th {\n",
              "        text-align: right;\n",
              "    }\n",
              "</style>\n",
              "<table border=\"1\" class=\"dataframe\">\n",
              "  <thead>\n",
              "    <tr style=\"text-align: right;\">\n",
              "      <th></th>\n",
              "      <th>Tested</th>\n",
              "      <th>Statistical Parity</th>\n",
              "      <th>Disparate Impact</th>\n",
              "    </tr>\n",
              "  </thead>\n",
              "  <tbody>\n",
              "    <tr>\n",
              "      <th>0</th>\n",
              "      <td>Female vs Male</td>\n",
              "      <td>-0.005561</td>\n",
              "      <td>1.014853</td>\n",
              "    </tr>\n",
              "    <tr>\n",
              "      <th>1</th>\n",
              "      <td>Black vs White</td>\n",
              "      <td>0.044949</td>\n",
              "      <td>0.887131</td>\n",
              "    </tr>\n",
              "    <tr>\n",
              "      <th>2</th>\n",
              "      <td>Asian vs White</td>\n",
              "      <td>0.072815</td>\n",
              "      <td>0.817158</td>\n",
              "    </tr>\n",
              "    <tr>\n",
              "      <th>3</th>\n",
              "      <td>Hispanic vs White</td>\n",
              "      <td>0.010448</td>\n",
              "      <td>0.973765</td>\n",
              "    </tr>\n",
              "  </tbody>\n",
              "</table>\n",
              "</div>\n",
              "      <button class=\"colab-df-convert\" onclick=\"convertToInteractive('df-4931d0b0-1fc6-4ff6-a688-58ed3b9434fc')\"\n",
              "              title=\"Convert this dataframe to an interactive table.\"\n",
              "              style=\"display:none;\">\n",
              "        \n",
              "  <svg xmlns=\"http://www.w3.org/2000/svg\" height=\"24px\"viewBox=\"0 0 24 24\"\n",
              "       width=\"24px\">\n",
              "    <path d=\"M0 0h24v24H0V0z\" fill=\"none\"/>\n",
              "    <path d=\"M18.56 5.44l.94 2.06.94-2.06 2.06-.94-2.06-.94-.94-2.06-.94 2.06-2.06.94zm-11 1L8.5 8.5l.94-2.06 2.06-.94-2.06-.94L8.5 2.5l-.94 2.06-2.06.94zm10 10l.94 2.06.94-2.06 2.06-.94-2.06-.94-.94-2.06-.94 2.06-2.06.94z\"/><path d=\"M17.41 7.96l-1.37-1.37c-.4-.4-.92-.59-1.43-.59-.52 0-1.04.2-1.43.59L10.3 9.45l-7.72 7.72c-.78.78-.78 2.05 0 2.83L4 21.41c.39.39.9.59 1.41.59.51 0 1.02-.2 1.41-.59l7.78-7.78 2.81-2.81c.8-.78.8-2.07 0-2.86zM5.41 20L4 18.59l7.72-7.72 1.47 1.35L5.41 20z\"/>\n",
              "  </svg>\n",
              "      </button>\n",
              "      \n",
              "  <style>\n",
              "    .colab-df-container {\n",
              "      display:flex;\n",
              "      flex-wrap:wrap;\n",
              "      gap: 12px;\n",
              "    }\n",
              "\n",
              "    .colab-df-convert {\n",
              "      background-color: #E8F0FE;\n",
              "      border: none;\n",
              "      border-radius: 50%;\n",
              "      cursor: pointer;\n",
              "      display: none;\n",
              "      fill: #1967D2;\n",
              "      height: 32px;\n",
              "      padding: 0 0 0 0;\n",
              "      width: 32px;\n",
              "    }\n",
              "\n",
              "    .colab-df-convert:hover {\n",
              "      background-color: #E2EBFA;\n",
              "      box-shadow: 0px 1px 2px rgba(60, 64, 67, 0.3), 0px 1px 3px 1px rgba(60, 64, 67, 0.15);\n",
              "      fill: #174EA6;\n",
              "    }\n",
              "\n",
              "    [theme=dark] .colab-df-convert {\n",
              "      background-color: #3B4455;\n",
              "      fill: #D2E3FC;\n",
              "    }\n",
              "\n",
              "    [theme=dark] .colab-df-convert:hover {\n",
              "      background-color: #434B5C;\n",
              "      box-shadow: 0px 1px 3px 1px rgba(0, 0, 0, 0.15);\n",
              "      filter: drop-shadow(0px 1px 2px rgba(0, 0, 0, 0.3));\n",
              "      fill: #FFFFFF;\n",
              "    }\n",
              "  </style>\n",
              "\n",
              "      <script>\n",
              "        const buttonEl =\n",
              "          document.querySelector('#df-4931d0b0-1fc6-4ff6-a688-58ed3b9434fc button.colab-df-convert');\n",
              "        buttonEl.style.display =\n",
              "          google.colab.kernel.accessAllowed ? 'block' : 'none';\n",
              "\n",
              "        async function convertToInteractive(key) {\n",
              "          const element = document.querySelector('#df-4931d0b0-1fc6-4ff6-a688-58ed3b9434fc');\n",
              "          const dataTable =\n",
              "            await google.colab.kernel.invokeFunction('convertToInteractive',\n",
              "                                                     [key], {});\n",
              "          if (!dataTable) return;\n",
              "\n",
              "          const docLinkHtml = 'Like what you see? Visit the ' +\n",
              "            '<a target=\"_blank\" href=https://colab.research.google.com/notebooks/data_table.ipynb>data table notebook</a>'\n",
              "            + ' to learn more about interactive tables.';\n",
              "          element.innerHTML = '';\n",
              "          dataTable['output_type'] = 'display_data';\n",
              "          await google.colab.output.renderOutput(dataTable, element);\n",
              "          const docLink = document.createElement('div');\n",
              "          docLink.innerHTML = docLinkHtml;\n",
              "          element.appendChild(docLink);\n",
              "        }\n",
              "      </script>\n",
              "    </div>\n",
              "  </div>\n",
              "  "
            ]
          },
          "metadata": {},
          "execution_count": 150
        }
      ]
    },
    {
      "cell_type": "markdown",
      "metadata": {
        "id": "oPEv1uWOpiGz"
      },
      "source": [
        "You should get the following results.\n",
        "\n",
        "| Tested | Statistical Parity | Disparate Impact |\n",
        "| --- | --- | ---|\n",
        "| Female vs Male |-0.07 | 0.81 |\n",
        "| Black vs White | -0.11 | 0.67 |\n",
        "| Asian vs White | -0.05 | 0.86 |\n",
        "| Hispanic vs White | -0.03 | 0.90 |\n"
      ]
    },
    {
      "cell_type": "markdown",
      "metadata": {
        "id": "7QvORPdlxluk"
      },
      "source": [
        "## **3. Calculate Statistical Parity and Disparate Impact on a rebalanced test set**\n",
        "\n",
        "We know for the dataset analysis that the actual success rate (calculated from the ground-truth label) is lower for the *Black/Asian/Hispanic* groups compared to White group. As the test set is a random subset of the dataset, it is also likely to be true in the test set. Hence even a perfectly trained model should predict a lower success rate for those groups. To test the bias on a more balanced dataset, we resample the test set so that the success rate is equal across all groups. Note this might take a few seconds to run.\n"
      ]
    },
    {
      "cell_type": "code",
      "execution_count": 151,
      "metadata": {
        "colab": {
          "base_uri": "https://localhost:8080/"
        },
        "id": "GJ_AriUppiG0",
        "outputId": "4644c1e7-838d-4d9d-cc67-e441a6bbcd87"
      },
      "outputs": [
        {
          "output_type": "stream",
          "name": "stdout",
          "text": [
            "New success rates for rebalanced test set:\n",
            "    Asian -> 0.500\n",
            "    Black -> 0.500\n",
            "    Hispanic -> 0.500\n",
            "    White -> 0.500\n",
            "Accuracy is 0.64\n"
          ]
        },
        {
          "output_type": "stream",
          "name": "stderr",
          "text": [
            "<ipython-input-151-441ef3388098>:6: FutureWarning: The default value of numeric_only in DataFrameGroupBy.mean is deprecated. In a future version, numeric_only will default to False. Either specify numeric_only or select only columns which should be valid for the function.\n",
            "  pred_e_mean_res  = data_test_res.groupby('Ethnicity').mean()['Label']\n"
          ]
        }
      ],
      "source": [
        "# resample test set so success rate equal across all groups\n",
        "data_test_res = resample_equal(data_test,'Ethnicity')\n",
        "X_test_res,y_test_res,dem_test_res = split_data_from_df(data_test_res)\n",
        "# check success rates\n",
        "print(\"New success rates for rebalanced test set:\")\n",
        "pred_e_mean_res  = data_test_res.groupby('Ethnicity').mean()['Label']\n",
        "for e in pred_e_mean_res.index:\n",
        "  print('   ',e,'-> %.3f'%pred_e_mean_res[e])\n",
        "## evaluate model on rebalanced test set\n",
        "y_pred_test_res = model.predict(X_test_res)\n",
        "acc_res = accuracy_score(y_test_res,y_pred_test_res)\n",
        "print(\"Accuracy is %.2f\"%acc_res)\n",
        "## add predictions to data_test for simplicity of analysis\n",
        "data_test_res = data_test_res.copy()\n",
        "data_test_res['Pred'] = y_pred_test_res"
      ]
    },
    {
      "cell_type": "markdown",
      "metadata": {
        "id": "wYRr0mjDpiG0"
      },
      "source": [
        "**Questions** :\n",
        "- **Repeat the steps from above to calculate the Statistical Parity and Disparate Impact on the rebalanced test set for:**\n",
        "  - **Black vs White**\n",
        "  - **Asian vs White**\n",
        "  - **Hispanic vs White**"
      ]
    },
    {
      "cell_type": "code",
      "execution_count": 152,
      "metadata": {
        "id": "7E8n0QVxKSIC"
      },
      "outputs": [],
      "source": [
        "sr_ethnicity1 = data_test_res.groupby(by = ['Ethnicity'])['Label'].mean().to_frame(name = 'Success Rate')\n"
      ]
    },
    {
      "cell_type": "code",
      "execution_count": 153,
      "metadata": {
        "id": "s-LlLrCBKSKo"
      },
      "outputs": [],
      "source": [
        "outcome_metrics1 = pd.DataFrame(columns = ['Tested','Statistical Parity','Disparate Impact'])\n",
        "outcome_metrics1.set_index('Tested')\n",
        "outcome_metrics1.loc[len(outcome_metrics1)] = ['Black vs White', (sr_ethnicity1.loc['White'] - sr_ethnicity1.loc['Black'])[0], (sr_ethnicity1.loc['Black']/sr_ethnicity1.loc['White'])[0]]\n",
        "outcome_metrics1.loc[len(outcome_metrics1)] = ['Asian vs White', (sr_ethnicity1.loc['White'] - sr_ethnicity1.loc['Asian'])[0], (sr_ethnicity1.loc['Asian']/sr_ethnicity1.loc['White'])[0]]\n",
        "outcome_metrics1.loc[len(outcome_metrics1)] = ['Hispanic vs White', (sr_ethnicity1.loc['White'] - sr_ethnicity1.loc['Hispanic'])[0], (sr_ethnicity1.loc['Hispanic']/sr_ethnicity1.loc['White'])[0]]\n"
      ]
    },
    {
      "cell_type": "code",
      "source": [
        "outcome_metrics1"
      ],
      "metadata": {
        "colab": {
          "base_uri": "https://localhost:8080/",
          "height": 143
        },
        "id": "31AxOROOB60i",
        "outputId": "f432c16c-dfc0-4ec2-f7c8-b5742b8a65aa"
      },
      "execution_count": 154,
      "outputs": [
        {
          "output_type": "execute_result",
          "data": {
            "text/plain": [
              "              Tested  Statistical Parity  Disparate Impact\n",
              "0     Black vs White                 0.0               1.0\n",
              "1     Asian vs White                 0.0               1.0\n",
              "2  Hispanic vs White                 0.0               1.0"
            ],
            "text/html": [
              "\n",
              "  <div id=\"df-a0830e44-298d-4800-9b7b-31a1c9c5586b\">\n",
              "    <div class=\"colab-df-container\">\n",
              "      <div>\n",
              "<style scoped>\n",
              "    .dataframe tbody tr th:only-of-type {\n",
              "        vertical-align: middle;\n",
              "    }\n",
              "\n",
              "    .dataframe tbody tr th {\n",
              "        vertical-align: top;\n",
              "    }\n",
              "\n",
              "    .dataframe thead th {\n",
              "        text-align: right;\n",
              "    }\n",
              "</style>\n",
              "<table border=\"1\" class=\"dataframe\">\n",
              "  <thead>\n",
              "    <tr style=\"text-align: right;\">\n",
              "      <th></th>\n",
              "      <th>Tested</th>\n",
              "      <th>Statistical Parity</th>\n",
              "      <th>Disparate Impact</th>\n",
              "    </tr>\n",
              "  </thead>\n",
              "  <tbody>\n",
              "    <tr>\n",
              "      <th>0</th>\n",
              "      <td>Black vs White</td>\n",
              "      <td>0.0</td>\n",
              "      <td>1.0</td>\n",
              "    </tr>\n",
              "    <tr>\n",
              "      <th>1</th>\n",
              "      <td>Asian vs White</td>\n",
              "      <td>0.0</td>\n",
              "      <td>1.0</td>\n",
              "    </tr>\n",
              "    <tr>\n",
              "      <th>2</th>\n",
              "      <td>Hispanic vs White</td>\n",
              "      <td>0.0</td>\n",
              "      <td>1.0</td>\n",
              "    </tr>\n",
              "  </tbody>\n",
              "</table>\n",
              "</div>\n",
              "      <button class=\"colab-df-convert\" onclick=\"convertToInteractive('df-a0830e44-298d-4800-9b7b-31a1c9c5586b')\"\n",
              "              title=\"Convert this dataframe to an interactive table.\"\n",
              "              style=\"display:none;\">\n",
              "        \n",
              "  <svg xmlns=\"http://www.w3.org/2000/svg\" height=\"24px\"viewBox=\"0 0 24 24\"\n",
              "       width=\"24px\">\n",
              "    <path d=\"M0 0h24v24H0V0z\" fill=\"none\"/>\n",
              "    <path d=\"M18.56 5.44l.94 2.06.94-2.06 2.06-.94-2.06-.94-.94-2.06-.94 2.06-2.06.94zm-11 1L8.5 8.5l.94-2.06 2.06-.94-2.06-.94L8.5 2.5l-.94 2.06-2.06.94zm10 10l.94 2.06.94-2.06 2.06-.94-2.06-.94-.94-2.06-.94 2.06-2.06.94z\"/><path d=\"M17.41 7.96l-1.37-1.37c-.4-.4-.92-.59-1.43-.59-.52 0-1.04.2-1.43.59L10.3 9.45l-7.72 7.72c-.78.78-.78 2.05 0 2.83L4 21.41c.39.39.9.59 1.41.59.51 0 1.02-.2 1.41-.59l7.78-7.78 2.81-2.81c.8-.78.8-2.07 0-2.86zM5.41 20L4 18.59l7.72-7.72 1.47 1.35L5.41 20z\"/>\n",
              "  </svg>\n",
              "      </button>\n",
              "      \n",
              "  <style>\n",
              "    .colab-df-container {\n",
              "      display:flex;\n",
              "      flex-wrap:wrap;\n",
              "      gap: 12px;\n",
              "    }\n",
              "\n",
              "    .colab-df-convert {\n",
              "      background-color: #E8F0FE;\n",
              "      border: none;\n",
              "      border-radius: 50%;\n",
              "      cursor: pointer;\n",
              "      display: none;\n",
              "      fill: #1967D2;\n",
              "      height: 32px;\n",
              "      padding: 0 0 0 0;\n",
              "      width: 32px;\n",
              "    }\n",
              "\n",
              "    .colab-df-convert:hover {\n",
              "      background-color: #E2EBFA;\n",
              "      box-shadow: 0px 1px 2px rgba(60, 64, 67, 0.3), 0px 1px 3px 1px rgba(60, 64, 67, 0.15);\n",
              "      fill: #174EA6;\n",
              "    }\n",
              "\n",
              "    [theme=dark] .colab-df-convert {\n",
              "      background-color: #3B4455;\n",
              "      fill: #D2E3FC;\n",
              "    }\n",
              "\n",
              "    [theme=dark] .colab-df-convert:hover {\n",
              "      background-color: #434B5C;\n",
              "      box-shadow: 0px 1px 3px 1px rgba(0, 0, 0, 0.15);\n",
              "      filter: drop-shadow(0px 1px 2px rgba(0, 0, 0, 0.3));\n",
              "      fill: #FFFFFF;\n",
              "    }\n",
              "  </style>\n",
              "\n",
              "      <script>\n",
              "        const buttonEl =\n",
              "          document.querySelector('#df-a0830e44-298d-4800-9b7b-31a1c9c5586b button.colab-df-convert');\n",
              "        buttonEl.style.display =\n",
              "          google.colab.kernel.accessAllowed ? 'block' : 'none';\n",
              "\n",
              "        async function convertToInteractive(key) {\n",
              "          const element = document.querySelector('#df-a0830e44-298d-4800-9b7b-31a1c9c5586b');\n",
              "          const dataTable =\n",
              "            await google.colab.kernel.invokeFunction('convertToInteractive',\n",
              "                                                     [key], {});\n",
              "          if (!dataTable) return;\n",
              "\n",
              "          const docLinkHtml = 'Like what you see? Visit the ' +\n",
              "            '<a target=\"_blank\" href=https://colab.research.google.com/notebooks/data_table.ipynb>data table notebook</a>'\n",
              "            + ' to learn more about interactive tables.';\n",
              "          element.innerHTML = '';\n",
              "          dataTable['output_type'] = 'display_data';\n",
              "          await google.colab.output.renderOutput(dataTable, element);\n",
              "          const docLink = document.createElement('div');\n",
              "          docLink.innerHTML = docLinkHtml;\n",
              "          element.appendChild(docLink);\n",
              "        }\n",
              "      </script>\n",
              "    </div>\n",
              "  </div>\n",
              "  "
            ]
          },
          "metadata": {},
          "execution_count": 154
        }
      ]
    },
    {
      "cell_type": "markdown",
      "metadata": {
        "id": "EAHEDWmBitMm"
      },
      "source": [
        "## **4. Calculate the Equal Opportunity Difference**"
      ]
    },
    {
      "cell_type": "markdown",
      "metadata": {
        "id": "8GFG01c8i1dC"
      },
      "source": [
        "In this section, we focus on the *Equal Opportunity Difference metric*. This metric is part of a wider category of metrics (Equalized Odds and Equality of opportunity) which compare performance/accuracy of predictions for different groups instead of success rates.\n",
        "\n",
        "Equalized Odds state that the classifer should have the same True Positive Rate (TPR) and True Negative Rate (TNR) across all groups. The true positive (negative) rate is the proportion of candidates that should be successful (unsuccessful) according to ground-truth that have been correctly classified as successful (unsuccessful) by the algorithm. Mathematically, this means that the following probabilities should be equal for all groups :\n",
        "\n",
        "$$P_{group1}(pred = \\text{0 or 1} | Y = \\text{0 or 1}) = P_{group2}(pred = \\text{0 or 1} | Y = \\text{0 or 1})$$\n",
        "\n",
        "\n",
        "The figure below illustrates the definition of TPR and TNR using a confusion matrix and their relationship with the above probabilities.\n"
      ]
    },
    {
      "cell_type": "markdown",
      "metadata": {
        "id": "qpg26zgs8MGl"
      },
      "source": [
        "<center><img src=\"https://drive.google.com/uc?id=1bQxfIhcrNym7UC7_yzbdaUq12qCtJ9Dr\"></center>"
      ]
    },
    {
      "cell_type": "markdown",
      "metadata": {
        "id": "2WvYsyq_4vvr"
      },
      "source": [
        "The version of this with equal true positive rates only - i.e only looking at $P(pred = 1|y =1)$ - is called *Equal Opportunity Difference*. This measures the difference in True Positive Rates between the unprivileged and privileged group. The ideal value is 0 and fair values are often considered achieved for values between -0.1 and 0.1. In this part, we calculate the Equal Opportunity Difference for different groups.\n",
        "\n",
        "\n",
        "In the following code, we split the data into a train and test set and train the model using the train set."
      ]
    },
    {
      "cell_type": "code",
      "execution_count": 155,
      "metadata": {
        "colab": {
          "base_uri": "https://localhost:8080/"
        },
        "id": "x7N3XUjti8r_",
        "outputId": "df75f298-6b04-40af-dccb-acdc6d3e4c92"
      },
      "outputs": [
        {
          "output_type": "stream",
          "name": "stdout",
          "text": [
            "Accuracy is 0.69\n"
          ]
        }
      ],
      "source": [
        "# split into train/test\n",
        "data_train, data_test = train_test_split(data,test_size = 0.3,random_state=4)\n",
        "# get X,y,demographics for each\n",
        "X_train,y_train,dem_train = split_data_from_df(data_train)\n",
        "X_test,y_test,dem_test = split_data_from_df(data_test)\n",
        "# define model and train\n",
        "model = RidgeClassifier(random_state=42)\n",
        "model.fit(X_train,y_train)\n",
        "# evaluate on test\n",
        "y_pred_test = model.predict(X_test)\n",
        "acc = accuracy_score(y_test,y_pred_test)\n",
        "print(\"Accuracy is %.2f\"%acc)\n",
        "# add predictions to data_test for simplicity of analysis\n",
        "data_test = data_test.copy()\n",
        "data_test['Pred'] = y_pred_test"
      ]
    },
    {
      "cell_type": "markdown",
      "metadata": {
        "id": "lxH0vOKaxnT5"
      },
      "source": [
        "**Questions:**\n",
        "- **Compute and plot the confusion matrix for Male/Female and White/Black.** Use the pre-defined function *plot_cm(y_true,y_pred)*.\n",
        "- **Compute the true positive rates for Male/Female and White/Black.**\n",
        "- **Compute the Equal Opportunity Difference as the difference of the true positive rate of the unprivileged group with the privileged one:**\n",
        "$EOD = TPR_{unprivileged}-TPR_{privileged}$."
      ]
    },
    {
      "cell_type": "code",
      "execution_count": 156,
      "metadata": {
        "id": "bxpICMgKKX8g",
        "colab": {
          "base_uri": "https://localhost:8080/",
          "height": 485
        },
        "outputId": "723dd076-f600-4355-bb7a-ce5e49e2848d"
      },
      "outputs": [
        {
          "output_type": "execute_result",
          "data": {
            "text/plain": [
              "array([[257, 212],\n",
              "       [175, 608]])"
            ]
          },
          "metadata": {},
          "execution_count": 156
        },
        {
          "output_type": "display_data",
          "data": {
            "text/plain": [
              "<Figure size 640x480 with 2 Axes>"
            ],
            "image/png": "[encoded data removed]"
          },
          "metadata": {}
        }
      ],
      "source": [
        "plot_cm(data_test[data_test['Gender'] == 'Male']['Label'], data_test[data_test['Gender'] == 'Male']['Pred'])"
      ]
    },
    {
      "cell_type": "code",
      "execution_count": 117,
      "metadata": {
        "id": "bh0VCA1zKX-9",
        "colab": {
          "base_uri": "https://localhost:8080/",
          "height": 489
        },
        "outputId": "25473e7e-645c-45f8-f7f5-521b2e99133c"
      },
      "outputs": [
        {
          "output_type": "execute_result",
          "data": {
            "text/plain": [
              "array([[246, 290],\n",
              "       [138, 703]])"
            ]
          },
          "metadata": {},
          "execution_count": 117
        },
        {
          "output_type": "display_data",
          "data": {
            "text/plain": [
              "<Figure size 640x480 with 2 Axes>"
            ],
            "image/png": "[encoded data removed]"
          },
          "metadata": {}
        }
      ],
      "source": [
        "plot_cm(data_test[data_test['Gender'] == 'Female']['Label'], data_test[data_test['Gender'] == 'Female']['Pred'])"
      ]
    },
    {
      "cell_type": "code",
      "source": [
        "plot_cm(data_test[data_test['Ethnicity'] == 'White']['Label'], data_test[data_test['Ethnicity'] == 'White']['Pred'])"
      ],
      "metadata": {
        "colab": {
          "base_uri": "https://localhost:8080/",
          "height": 485
        },
        "id": "Ypgp2ksSFc_L",
        "outputId": "5613128f-6b80-4403-b1bb-050988f8ee18"
      },
      "execution_count": 118,
      "outputs": [
        {
          "output_type": "execute_result",
          "data": {
            "text/plain": [
              "array([[208, 173],\n",
              "       [134, 470]])"
            ]
          },
          "metadata": {},
          "execution_count": 118
        },
        {
          "output_type": "display_data",
          "data": {
            "text/plain": [
              "<Figure size 640x480 with 2 Axes>"
            ],
            "image/png": "[encoded data removed]"
          },
          "metadata": {}
        }
      ]
    },
    {
      "cell_type": "code",
      "source": [
        "plot_cm(data_test[data_test['Ethnicity'] == 'Black']['Label'], data_test[data_test['Ethnicity'] == 'Black']['Pred'])"
      ],
      "metadata": {
        "colab": {
          "base_uri": "https://localhost:8080/",
          "height": 485
        },
        "id": "BNSic6IsFgaq",
        "outputId": "9c80e54b-2ed8-431f-fde0-0006f8fb6e3a"
      },
      "execution_count": 119,
      "outputs": [
        {
          "output_type": "execute_result",
          "data": {
            "text/plain": [
              "array([[ 65, 100],\n",
              "       [ 39, 242]])"
            ]
          },
          "metadata": {},
          "execution_count": 119
        },
        {
          "output_type": "display_data",
          "data": {
            "text/plain": [
              "<Figure size 640x480 with 2 Axes>"
            ],
            "image/png": "[encoded data removed]"
          },
          "metadata": {}
        }
      ]
    },
    {
      "cell_type": "code",
      "source": [
        "tpr_white = len(data_test[(data_test['Ethnicity'] == 'White') & (data_test['Pred'] == 1) & (data_test['Label'] == 1)])/len(data_test[(data_test['Ethnicity'] == 'White') & (data_test['Label'] == 1)])\n",
        "tpr_black = len(data_test[(data_test['Ethnicity'] == 'Black') & (data_test['Pred'] == 1) & (data_test['Label'] == 1)])/len(data_test[(data_test['Ethnicity'] == 'Black') & (data_test['Label'] == 1)])\n",
        "tpr_asian = len(data_test[(data_test['Ethnicity'] == 'Asian') & (data_test['Pred'] == 1) & (data_test['Label'] == 1)])/len(data_test[(data_test['Ethnicity'] == 'Asian') & (data_test['Label'] == 1)])\n",
        "tpr_hispanic = len(data_test[(data_test['Ethnicity'] == 'Hispanic') & (data_test['Pred'] == 1) & (data_test['Label'] == 1)])/len(data_test[(data_test['Ethnicity'] == 'Hispanic') & (data_test['Label'] == 1)])\n",
        "tpr_female = len(data_test[(data_test['Gender'] == 'Female') & (data_test['Pred'] == 1) & (data_test['Label'] == 1)])/len(data_test[(data_test['Gender'] == 'Female') & (data_test['Label'] == 1)])\n",
        "tpr_male = len(data_test[(data_test['Gender'] == 'Male') & (data_test['Pred'] == 1) & (data_test['Label'] == 1)])/len(data_test[(data_test['Gender'] == 'Male') & (data_test['Label'] == 1)])\n"
      ],
      "metadata": {
        "id": "0RDanG7UFyS2"
      },
      "execution_count": 157,
      "outputs": []
    },
    {
      "cell_type": "code",
      "source": [
        "EOD = pd.DataFrame(columns = ['Tested', 'Equal Opportunity Difference'])\n",
        "EOD.set_index('Tested')\n",
        "EOD.loc[len(EOD)] = ['Female vs Male', tpr_female - tpr_male]\n",
        "EOD.loc[len(EOD)] = ['Black vs White', tpr_black - tpr_white]\n",
        "EOD.loc[len(EOD)] = ['Asian vs White', tpr_asian - tpr_white]\n",
        "EOD.loc[len(EOD)] = ['Hispanic vs White', tpr_hispanic - tpr_white]"
      ],
      "metadata": {
        "id": "q6e8JHbgG_TI"
      },
      "execution_count": 158,
      "outputs": []
    },
    {
      "cell_type": "code",
      "source": [
        "EOD"
      ],
      "metadata": {
        "colab": {
          "base_uri": "https://localhost:8080/",
          "height": 175
        },
        "id": "eH57v_DkGP2h",
        "outputId": "0bf72e98-59cc-41e0-886d-d7dc4b76535a"
      },
      "execution_count": 159,
      "outputs": [
        {
          "output_type": "execute_result",
          "data": {
            "text/plain": [
              "              Tested  Equal Opportunity Difference\n",
              "0     Female vs Male                     -0.089019\n",
              "1     Black vs White                     -0.151992\n",
              "2     Asian vs White                     -0.078042\n",
              "3  Hispanic vs White                     -0.034503"
            ],
            "text/html": [
              "\n",
              "  <div id=\"df-46c8cfd4-0b95-4116-91a1-16394bdee84d\">\n",
              "    <div class=\"colab-df-container\">\n",
              "      <div>\n",
              "<style scoped>\n",
              "    .dataframe tbody tr th:only-of-type {\n",
              "        vertical-align: middle;\n",
              "    }\n",
              "\n",
              "    .dataframe tbody tr th {\n",
              "        vertical-align: top;\n",
              "    }\n",
              "\n",
              "    .dataframe thead th {\n",
              "        text-align: right;\n",
              "    }\n",
              "</style>\n",
              "<table border=\"1\" class=\"dataframe\">\n",
              "  <thead>\n",
              "    <tr style=\"text-align: right;\">\n",
              "      <th></th>\n",
              "      <th>Tested</th>\n",
              "      <th>Equal Opportunity Difference</th>\n",
              "    </tr>\n",
              "  </thead>\n",
              "  <tbody>\n",
              "    <tr>\n",
              "      <th>0</th>\n",
              "      <td>Female vs Male</td>\n",
              "      <td>-0.089019</td>\n",
              "    </tr>\n",
              "    <tr>\n",
              "      <th>1</th>\n",
              "      <td>Black vs White</td>\n",
              "      <td>-0.151992</td>\n",
              "    </tr>\n",
              "    <tr>\n",
              "      <th>2</th>\n",
              "      <td>Asian vs White</td>\n",
              "      <td>-0.078042</td>\n",
              "    </tr>\n",
              "    <tr>\n",
              "      <th>3</th>\n",
              "      <td>Hispanic vs White</td>\n",
              "      <td>-0.034503</td>\n",
              "    </tr>\n",
              "  </tbody>\n",
              "</table>\n",
              "</div>\n",
              "      <button class=\"colab-df-convert\" onclick=\"convertToInteractive('df-46c8cfd4-0b95-4116-91a1-16394bdee84d')\"\n",
              "              title=\"Convert this dataframe to an interactive table.\"\n",
              "              style=\"display:none;\">\n",
              "        \n",
              "  <svg xmlns=\"http://www.w3.org/2000/svg\" height=\"24px\"viewBox=\"0 0 24 24\"\n",
              "       width=\"24px\">\n",
              "    <path d=\"M0 0h24v24H0V0z\" fill=\"none\"/>\n",
              "    <path d=\"M18.56 5.44l.94 2.06.94-2.06 2.06-.94-2.06-.94-.94-2.06-.94 2.06-2.06.94zm-11 1L8.5 8.5l.94-2.06 2.06-.94-2.06-.94L8.5 2.5l-.94 2.06-2.06.94zm10 10l.94 2.06.94-2.06 2.06-.94-2.06-.94-.94-2.06-.94 2.06-2.06.94z\"/><path d=\"M17.41 7.96l-1.37-1.37c-.4-.4-.92-.59-1.43-.59-.52 0-1.04.2-1.43.59L10.3 9.45l-7.72 7.72c-.78.78-.78 2.05 0 2.83L4 21.41c.39.39.9.59 1.41.59.51 0 1.02-.2 1.41-.59l7.78-7.78 2.81-2.81c.8-.78.8-2.07 0-2.86zM5.41 20L4 18.59l7.72-7.72 1.47 1.35L5.41 20z\"/>\n",
              "  </svg>\n",
              "      </button>\n",
              "      \n",
              "  <style>\n",
              "    .colab-df-container {\n",
              "      display:flex;\n",
              "      flex-wrap:wrap;\n",
              "      gap: 12px;\n",
              "    }\n",
              "\n",
              "    .colab-df-convert {\n",
              "      background-color: #E8F0FE;\n",
              "      border: none;\n",
              "      border-radius: 50%;\n",
              "      cursor: pointer;\n",
              "      display: none;\n",
              "      fill: #1967D2;\n",
              "      height: 32px;\n",
              "      padding: 0 0 0 0;\n",
              "      width: 32px;\n",
              "    }\n",
              "\n",
              "    .colab-df-convert:hover {\n",
              "      background-color: #E2EBFA;\n",
              "      box-shadow: 0px 1px 2px rgba(60, 64, 67, 0.3), 0px 1px 3px 1px rgba(60, 64, 67, 0.15);\n",
              "      fill: #174EA6;\n",
              "    }\n",
              "\n",
              "    [theme=dark] .colab-df-convert {\n",
              "      background-color: #3B4455;\n",
              "      fill: #D2E3FC;\n",
              "    }\n",
              "\n",
              "    [theme=dark] .colab-df-convert:hover {\n",
              "      background-color: #434B5C;\n",
              "      box-shadow: 0px 1px 3px 1px rgba(0, 0, 0, 0.15);\n",
              "      filter: drop-shadow(0px 1px 2px rgba(0, 0, 0, 0.3));\n",
              "      fill: #FFFFFF;\n",
              "    }\n",
              "  </style>\n",
              "\n",
              "      <script>\n",
              "        const buttonEl =\n",
              "          document.querySelector('#df-46c8cfd4-0b95-4116-91a1-16394bdee84d button.colab-df-convert');\n",
              "        buttonEl.style.display =\n",
              "          google.colab.kernel.accessAllowed ? 'block' : 'none';\n",
              "\n",
              "        async function convertToInteractive(key) {\n",
              "          const element = document.querySelector('#df-46c8cfd4-0b95-4116-91a1-16394bdee84d');\n",
              "          const dataTable =\n",
              "            await google.colab.kernel.invokeFunction('convertToInteractive',\n",
              "                                                     [key], {});\n",
              "          if (!dataTable) return;\n",
              "\n",
              "          const docLinkHtml = 'Like what you see? Visit the ' +\n",
              "            '<a target=\"_blank\" href=https://colab.research.google.com/notebooks/data_table.ipynb>data table notebook</a>'\n",
              "            + ' to learn more about interactive tables.';\n",
              "          element.innerHTML = '';\n",
              "          dataTable['output_type'] = 'display_data';\n",
              "          await google.colab.output.renderOutput(dataTable, element);\n",
              "          const docLink = document.createElement('div');\n",
              "          docLink.innerHTML = docLinkHtml;\n",
              "          element.appendChild(docLink);\n",
              "        }\n",
              "      </script>\n",
              "    </div>\n",
              "  </div>\n",
              "  "
            ]
          },
          "metadata": {},
          "execution_count": 159
        }
      ]
    },
    {
      "cell_type": "markdown",
      "metadata": {
        "id": "_BjIkQZbpiG1"
      },
      "source": [
        "You should find the following:\n",
        "\n",
        "| Tested | Equal Opportunity Difference |\n",
        "| --- | ---|\n",
        "| Female vs Male | -0.09 |\n",
        "| Black vs White | -0.15 |\n",
        "| Asian vs White | -0.08 |\n",
        "| Hispanic vs White | -0.03 |"
      ]
    }
  ],
  "metadata": {
    "colab": {
      "provenance": [],
      "include_colab_link": true
    },
    "kernelspec": {
      "display_name": "Python 3.9.12 ('torch-nightly')",
      "language": "python",
      "name": "python3"
    },
    "language_info": {
      "codemirror_mode": {
        "name": "ipython",
        "version": 3
      },
      "file_extension": ".py",
      "mimetype": "text/x-python",
      "name": "python",
      "nbconvert_exporter": "python",
      "pygments_lexer": "ipython3",
      "version": "3.9.12"
    },
    "vscode": {
      "interpreter": {
        "hash": "f5fa74478a026ac530ef194e4df855dfb9675779484e20284ae5f690a2266d7b"
      }
    }
  },
  "nbformat": 4,
  "nbformat_minor": 0
}